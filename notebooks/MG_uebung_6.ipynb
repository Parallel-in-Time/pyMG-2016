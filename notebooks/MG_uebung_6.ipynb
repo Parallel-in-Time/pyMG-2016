{
 "cells": [
  {
   "cell_type": "markdown",
   "metadata": {},
   "source": [
    "<center> \n",
    "<h1> Mehrgittermethoden </h1> \n",
    "<h2> Übungsaufgaben </h2>\n",
    "<h3> Robert Speck & Dieter Moser, Sommersemester 2016 </h3>\n",
    "</center>\n",
    "___\n"
   ]
  },
  {
   "cell_type": "markdown",
   "metadata": {},
   "source": [
    "### Über  zyklische Matrizen (Teil 2)\n",
    "Sei $f(\\lambda):[0,2\\pi]\\mapsto C$ eine Funktion der *Wiener Klasse* und $\\{t_k\\}_{-s}^{s}$ die zugehörigen \n",
    "Fourier-Koeffizienten. Wir nutzen diese Koeffizienten zur Konstruktion von \n",
    "\n",
    "$$C_{n}(f)=\\begin{pmatrix} \n",
    "t_0    & \\ldots & t_{-s}&  \\mathbf{0}_m     &t_{s} &\\ldots & t_{1}   \\\\\n",
    "\\vdots &        &       & \\ddots&      &\\ddots & \\vdots  \\\\\n",
    "t_{s}  &        &       &       &      &       & t_{s}   \\\\\n",
    " \\mathbf{0}_m^T       &\\ddots  &       &   t_0 &      & \\ddots&     \\mathbf{0}_m^T     \\\\ \n",
    "t_{-s} &        &       &       &      &       & t_{-s}  \\\\\n",
    "\\vdots & \\ddots &       & \\ddots&      &       & \\vdots  \\\\\n",
    "t_{-1} & \\ldots & t_{-s}&  \\mathbf{0}_m      &  t_s & \\ldots & t_0\n",
    "\\end{pmatrix} \\in K^{n \\times n}, \\mbox{mit}\\; n > 2s+1.$$\n",
    "\n",
    "$C_n(f)$ ist zyklisch und besitzt die Eigenwerte $\\{\\psi_{n,j}\\}$.\n",
    "\n",
    "1. Zeigen Sie, dass für die Eigenwerte von $C_n(f)$ gilt $\\psi_{n,j} = f(\\frac{2 \\pi j}{n})$.\n",
    "2. Folgern Sie daraus, dass\n",
    "$$ \\lim_{n \\to \\infty} \\frac{1}{n} \\sum_{j=0}^{n-1} \\psi_{n,j}^s = \\frac{1}{2\\pi}\\int_{0}^{2\\pi} f(\\lambda)^s \\mathrm{d}\\lambda$$\n",
    "3. Sei $C_n(f)$ hermitesch und $F$ eine stetige Funktion, definiert auf dem Bild von $f(\\lambda)$. \n",
    "Zeigen Sie\n",
    "$$ \\lim_{n \\to \\infty} \\frac{1}{n} \\sum_{j=0}^{n-1} F(\\psi_{n,j}) = \\frac{1}{2\\pi}\\int_{0}^{2\\pi} F(f(\\lambda)) \\mathrm{d}\\lambda$$\n",
    "\n",
    "__Tipp__: Nutzen Sie für 3. den Satz von Weierstraß. Dieser besagt, dass für jede stetige Funktion $F:[a,b] \\mapsto K$ eine Folge von Polynomen $\\{p_n\\}$ existiert, s.d. $$ \\lim_{n \\to \\infty} p_n(x) =F(x) $$\n",
    "gleichmäßig auf $[a,b]$ konvergiert."
   ]
  },
  {
   "cell_type": "markdown",
   "metadata": {},
   "source": [
    "### Über Toeplitz Matrizen (Teil 2)\n",
    "Sein $f(\\lambda):[0,2\\pi]\\mapsto C$ eine Funktion der *Wiener Klasse* und $\\{t_k\\}_{-s}^{s}$ die zugehörigen\n",
    "Fourier Koeffizienten. Wir nutzen diese Koeffizienten zur Konstruktion von\n",
    "\n",
    "$$T_{n}(f)=\\begin{pmatrix}\n",
    "t_0    & \\ldots & t_{-s}& & & & \\\\\n",
    "\\vdots &        &       & \\ddots & & &  \\\\\n",
    "t_{s}  &        &       &       &      &       &   \\\\\n",
    "       &\\ddots  &       &   t_0 &      & \\ddots&       \\\\\n",
    "& & &       &      &       & t_{-s}  \\\\\n",
    "& & & \\ddots & &       & \\vdots  \\\\\n",
    " & & &       &  t_s & \\ldots & t_0\n",
    "\\end{pmatrix} \\in K^{n \\times n}, \\mbox{mit}\\; n > 2s+1.$$\n",
    "Diese nennt man eine Band-Toeplitz-Matrix. Die Eigenwerte von $T_n(f)$ nennen wir $\\{\\tau_{n,k}\\}$.\n",
    "\n",
    "1. Zeigen Sie: $C_n(f) \\sim T_n(f)$\n",
    "2. Sei $f(\\lambda)$ zusätzlich reell-wertig. Beweisen Sie, dass für ein stetiges $F:\\mbox{Bild}(f)\\mapsto K$\n",
    "$$ \\lim_{n \\to \\infty} \\frac{1}{n} \\sum_{j=0}^{n-1} F(\\tau_{n,j}) = \\frac{1}{2\\pi}\\int_{0}^{2\\pi} F(f(\\lambda)) \\mathrm{d}\\lambda$$gilt.\n",
    "3. Es gelte nun zusätzlich $f(\\lambda) >0$, zeigen Sie mithilfe eines geeigneten $F$, dass\n",
    "$$ \\lim_{n \\to \\infty} \\mbox{det}(T_n(f))^{1/n} =\\lim_{n \\to \\infty} \\mbox{det}(C_n(f))^{1/n}$$ gilt.\n",
    "\n",
    "__Tipp__:\n",
    "Für zwei asymptotisch äquivalente Folgen von Matrizen $\\{A_n\\}$ und $\\{B_n\\}$, mit den Eigenwerten $\\{\\alpha_{n,i}\\}$ und $\\{\\beta_{n,i}\\}$, kann man\n",
    "$$ \\lim_{n \\to \\infty} \\frac{1}{n} \\sum_{k=0}^{n-1} (\\alpha_{n,k}^s - \\beta_{n,k}^s) = 0$$\n",
    "zeigen, solange $s$ ein positiver integer ist. Diese Aussagen kann ohne Beweis verwendet werden."
   ]
  }
 ],
 "metadata": {
  "kernelspec": {
   "display_name": "Python 3",
   "language": "python",
   "name": "python3"
  },
  "language_info": {
   "codemirror_mode": {
    "name": "ipython",
    "version": 3
   },
   "file_extension": ".py",
   "mimetype": "text/x-python",
   "name": "python",
   "nbconvert_exporter": "python",
   "pygments_lexer": "ipython3",
   "version": "3.4.4"
  }
 },
 "nbformat": 4,
 "nbformat_minor": 0
}
