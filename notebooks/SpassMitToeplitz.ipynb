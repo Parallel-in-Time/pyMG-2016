{
 "cells": [
  {
   "cell_type": "markdown",
   "metadata": {},
   "source": [
    "<center> \n",
    "<h1> Mehrgittermethoden </h1> \n",
    "<h2> Übungsaufgaben </h2>\n",
    "<h3> Robert Speck & Dieter Moser, Sommersemester 2016 </h3>\n",
    "</center>\n",
    "___\n"
   ]
  },
  {
   "cell_type": "markdown",
   "metadata": {},
   "source": [
    "### Über Systemmatrizen\n",
    "\n",
    "In der Vorlesung haben wir das Gleichungssytem $Au = f$ für das Possion-Problem in 1D mit Dirichlet-Rändern durch eine Diskretisierung mit Hilfe von zentrierten Finiten Differenzen aufgestellt.\n",
    "1. Wie sieht das System für periodische Randbedingungen $u(0) = u(1)$ und $u'(0) = u'(1)$ aus? Nutzen Sie die Gitterpunkte $x_0$, $x_1$, ..., $x_{N-1}$. Wie viele Unbekannte hat das Gleichungsssystem?\n",
    "1. Wie sieht das System mit Dirichlet-Rändern in zwei Dimensionen aus? Nutzen Sie Blockmatrizen zur Darstellung von $A$. Wie viele Unbekannte hat das System nun und wie viele Einträge ungleich Null hat die Systemmatrix?\n",
    "___"
   ]
  },
  {
   "cell_type": "markdown",
   "metadata": {},
   "source": [
    "### Über das Kroneckerprodukt (Teil 1)\n",
    "Ist $A$ eine $m\\times n$-Matrix und $B$ eine $p\\times r$-Matrix, so ist das Kronecker-Produkt $C = A \\otimes B$ definiert als\n",
    "    $$C = (a_{ij} \\cdot B) =\\begin{pmatrix} a_{11} B & \\cdots & a_{1n} B \\\\ \\vdots & \\ddots & \\vdots \\\\ a_{m1} B & \\cdots & a_{mn} B \\end{pmatrix}.$$\n",
    "    \n",
    "1. Ist das Kronecker-Produkt kommutativ?\n",
    "\n",
    "2. Zeigen Sie \n",
    "\n",
    "    a.) $A\\otimes (B+C)=A\\otimes B+A\\otimes C $\n",
    "    \n",
    "    b.) $AC\\otimes BD=(A\\otimes B)(C\\otimes D)$\n",
    "    \n",
    "    c.) $\\mathrm{Spur}(A \\otimes B) = \\mathrm{Spur}(A) \\cdot \\mathrm{Spur}(B)$\n",
    "    \n",
    "\n"
   ]
  },
  {
   "cell_type": "markdown",
   "metadata": {},
   "source": [
    "### Über das Kroneckerprodukt (Teil 2)\n",
    "Ist $A$ eine $m\\times n$-Matrix und $B$ eine $p\\times r$-Matrix, so ist das Kronecker-Produkt $C = A \\otimes B$ definiert als\n",
    "    $$C = (a_{ij} \\cdot B) =\\begin{pmatrix} a_{11} B & \\cdots & a_{1n} B \\\\ \\vdots & \\ddots & \\vdots \\\\ a_{m1} B & \\cdots & a_{mn} B \\end{pmatrix}.$$\n",
    "\n",
    "Zeigen Sie \n",
    "\n",
    "a.) Sind $\\{\\lambda_i\\}_{i=1..n}$ die Eigenwerte von $A$ und $\\{\\mu_j\\}_{j=1..m}$ die Eigenwerte von $B$ dann gilt    $\\{\\lambda_i \\, \\mu_j\\}_{i=1..n \\atop j=1..m} \\mbox{sind die Eigenwerte von }\\; A \\otimes B$.\n",
    "\n",
    "b.) Für die Spektralnorm gilt $\\| A \\otimes B \\|_2 = \\| A \\|_2 \\cdot \\| B \\|_2$. \n",
    "\n",
    "c.) Sind $A,B$ invertierbar, so ist die Inverse $(A\\otimes B)^{-1}=A^{-1} \\otimes B^{-1}$. "
   ]
  },
  {
   "cell_type": "markdown",
   "metadata": {},
   "source": [
    "### Über den Rayleigh-quotienten\n",
    "Sei $H$ eine hermitsche Matrix, so definiert sich der zugehörige Rayleigh quotient als\n",
    "$$R_H(x) = \\frac{x^*Hx}{x^*\\cdot x}.$$\n",
    "\n",
    "1. Zeigen Sie, dass für den größten bzw. kleinsten Eigenwert $\\lambda_M,\\lambda_m$ von $H$ \n",
    "$$ \\lambda_m = \\min_x R_H(x) \\; \\mbox{und} \\; \\lambda_M = \\max_x R_H(x) $$\n",
    "gilt.\n",
    "2. Sei $H = A^*A$. Zeigen sie, dass $\\max_x R_H(x)^{1/2}$ eine Norm von $A$ ist."
   ]
  },
  {
   "cell_type": "markdown",
   "metadata": {},
   "source": [
    "### Über persymmetrische Matrizen\n",
    "\n",
    "Sei $\\mathcal{P}_1 = \\{ A \\in K^{N \\times N} |   a_{i,j} = a_{n-j+1,n-i+1} \\}$ und $\\mathcal{P}_2 = \\{ A \\in K^{N \\times N} |   JA = A^TJ \\}$, mit \n",
    "$    J = (\\delta_{i,n-j+1})_{ij} = \\begin{pmatrix} 0 & & 1 \\\\ & \\scriptstyle\\cdot^{\\,\\scriptstyle\\cdot^{\\,\\scriptstyle\\cdot}} & \\\\ 1 & & 0 \\end{pmatrix}$. \n",
    "\n",
    "Zeigen Sie\n",
    "1. $\\mathcal{P}_1 = \\mathcal{P}_2$\n",
    "2. $\\mathcal{P}_1$ is ein Untervektorraum des $K^{N \\times N}$.\n",
    "\n",
    "Wie muss $\\mathcal{P}_1$ eingeschränkt werden, damit\n",
    "1. $(\\mathcal{P}_1,+,0,-)$ eine abelsche Gruppe ist\n",
    "2. $(\\mathcal{P}_1,\\cdot)$ eine Gruppe ist\n",
    "3. $(\\mathcal{P}_1,+,0,-,\\cdot)$ ein Ring ist\n"
   ]
  },
  {
   "cell_type": "markdown",
   "metadata": {},
   "source": [
    "### Über zyklische Matrizen (Teil 1)\n",
    "Sei $A$ von der Gestalt\n",
    "$$A:=\\begin{pmatrix} a_0&a_{n-1}&a_{n-2}&\\ldots&a_1\\\\ a_1&a_0&a_{n-1}&\\ldots&a_2\\\\ a_2&a_1&a_0&\\ldots&a_3\\\\ &\\ddots&\\ddots&\\ddots\\\\ a_{n-1}&a_{n-2}&a_{n-3}&\\ldots&a_0\\end{pmatrix}. $$\n",
    "\n",
    "1. Zeigen Sie, dass A persymmetrisch ist.\n",
    "2. Berechnen Sie das charakteristische Polynom, die Eigenwerte, Eigenvektoren und die Determinante von $A$.\n",
    "3. Seien $B$ und $C$ zyklische miteinander kommutierende Matrizen mit den Eigenwerten $\\{\\beta_k\\},\\{\\zeta_k\\}$.\n",
    "   Was sind die Eigenwerte von $BC$.\n",
    "4. Zeigen Sie, dass der Raum der zyklischen Matrizen ein Untervektorraum des $K^{N \\times N}$\n"
   ]
  },
  {
   "cell_type": "markdown",
   "metadata": {},
   "source": [
    "### Fourier Reihen \n",
    "\n",
    "Sei $\\{t_k\\}_{-\\infty}^{\\infty}$ eine absolut summierbare Folge, d.h. $\\sum_{k=-\\infty}^{\\infty}|t_k| < \\infty$.\n",
    "Sei desweiteren $f(\\lambda) = \\lim_{n \\to \\infty} \\sum_{k=-n}^{n}t_k e^{-ik\\lambda}$.\n",
    "\n",
    "1. Zeigen Sie, dass $S_n(\\lambda) = \\sum_{k=-n}^{n}t_k e^{-ik\\lambda}$ gleichmässig gegen $f(\\lambda)$ konvergiert.\n",
    "2. Folgern Sie, dass $f(\\lambda)$ Riemann-integrierbar und beschränkt auf $[0,2\\pi]$ ist.\n",
    "3. Finden Sie mithilfe der inversen Fouriertransformation eine Darstellung von $t_k$ unter Verwendung von $f(\\lambda)$.\n",
    "\n",
    "Wir nennen $f(\\lambda)$ eine Funktion der *Wiener Klasse*.\n"
   ]
  },
  {
   "cell_type": "markdown",
   "metadata": {},
   "source": [
    "### Über Toeplitz-Matrizen (Teil 1)\n",
    "Eine Matrix nennt man eine Toeplitz-Matrix falls die Werte auf der Hauptdiagonale und allen Nebendiagonalen konstant sind. Mithilfe einer Funktion der Wiener Klasse $f(\\lambda)$ lässt sich die Klasse der Toeplitz-Matrizen\n",
    "$$ T_n(f) = \\{\\frac{1}{2 \\pi} \\int_0^{2\\pi} f(\\lambda) e^{-i(k-j)\\lambda} \\mathrm{d}\\lambda ; k,j = 0,1,\\ldots,n-1\\}$$\n",
    "konstruiren.\n",
    "\n",
    "1. Welches $f(\\lambda)$ und $n$ generiert den Finite Differenzen Poisson Operator.\n",
    "2. Zeigen Sie, dass $T_n(f(\\lambda))$ genau dann hermitesch ist wenn $f(\\lambda)$ eine reelwertige Funktion ist.\n",
    "3. Sei $f(\\lambda)$ reelwertig und begrenzt durch $m_f \\leq f(\\lambda) \\leq M_f$. Beweisen Sie mithilfe des Raleigh Koeffizienten, dass für die Eigenwerte $\\tau_{n,k}$ von $T_n(f)$ gilt \n",
    "    $m_f\\leq\\tau_{n,k}\\leq M_f$.\n",
    "4. Zeigen Sie für nicht hermitesche $T_n(f)$, dass die Ungleichung $\\| T_n(f) \\| \\leq M_{|f_r|}+M_{|f_i|} \\leq 2 M_{|f|}$ gilt, wobei $f(\\lambda) = f_r(\\lambda) + i f_i(\\lambda)$ mit den realwertigen Funktionen $f_i,f_r$ aus der Wiener Klasse.\n",
    "\n",
    "Tipp: Nutzen Sie den Satz von Parseval für $x^* \\cdot x$.\n"
   ]
  },
  {
   "cell_type": "markdown",
   "metadata": {},
   "source": [
    "### Über die Hilbert-Schmidt Norm\n",
    "\n",
    "Wir definieren die Hilbert-Schmidt Norm einer Matrx $A \\in K^{n \\times n}$ als\n",
    "$$ |A| = \\left( \\frac{1}{n}\\sum_{i = 0}^{n-1}\\sum_{i = 0}^{n-1} |a_{i,j}|^2 \\right)^{1/2}.$$\n",
    "Zeigen Sie\n",
    "1. $|A| = \\left( \\frac{1}{n}\\mbox{Spur}(A^*A) \\right)^{1/2}$\n",
    "2. $|A| = \\left( \\frac{1}{n}\\sum_{k=0}^{n-1}\\lambda_k\\right)^{1/2}$, wobei $\\lambda_k$ die Eigenwerte von $A^*A$ sind\n",
    "3. $|A| \\leq \\|A\\|$\n",
    "\n",
    "Überlegen Sie sich warum diese Norm, auch schwache Norm genannt wird."
   ]
  },
  {
   "cell_type": "markdown",
   "metadata": {},
   "source": [
    "### Über asymptotisch äquivalente Folgen von Matrizen\n",
    "Seien $\\{A_n\\}$ und $\\{B_n\\}$ Folgen von $n\\times n$ Matrizen, welche \n",
    "beschränkt bzgl. der starken Norm sind:\n",
    "$$ \\|A_n\\|,\\|B_n\\| \\leq M \\le \\infty, n=1,2,\\ldots $$ \n",
    "und bzgl. der schwachen Norm konvergieren\n",
    "$$\\lim_{n \\to \\infty} |A_n -B_n| = 0$$. \n",
    "Wir nennen diese Folgen *asymptotisch äquivalent* und notieren dies als $A_n \\sim B_n$. \n",
    "Zeigen Sie nun für $\\{A_n\\}$ , $\\{B_n\\}$ und $\\{C_n\\}$, \n",
    "welche jeweils die Eigenwerte $\\{\\alpha_{n,i}\\}$,$\\{\\beta_{n,i}\\}$ und $\\{\\zeta_{n,i}\\}$ haben, \n",
    "folgende Zusammenhänge.\n",
    "\n",
    "1. Wenn $A_n \\sim B_n$, dann $\\lim_{n \\to \\infty} |A_n| = \\lim_{n \\to \\infty} |B_n| $\n",
    "2. Wenn $A_n \\sim B_n$ und $B_n \\sim C_n$, dann  $A_n \\sim C_n$\n",
    "3. Wenn $A_nB_n \\sim C_n$ und $\\|A_n^{-1}\\|\\leq K \\le \\infty$, dann gilt $B_n \\sim A_n^{-1}C_n$\n",
    "4. Wenn $A_n \\sim B_n$, dann $\\exists -\\infty \\le m,M\\le \\infty$, s.d. $m\\leq \\alpha_{n,i}, \\beta_{n,i}\\leq M \\; \\forall n\\geq 1 \\mbox{und}\\; k\\geq 0$  \n",
    "\n",
    "\n",
    "__Tipp__: Nutzen Sie ohne Beweis, dass gilt $|GH|\\leq \\|G\\| \\cdot |H|$. Wer Lust hat kann es aber auch Beweisen. "
   ]
  },
  {
   "cell_type": "markdown",
   "metadata": {},
   "source": [
    "### Über  zyklische Matrizen (Teil 2)\n",
    "Sei $f(\\lambda):[0,2\\pi]\\mapsto C$ eine Funktion der *Wiener Klasse* und $\\{t_k\\}_{-s}^{s}$ die zugehörigen \n",
    "Fourier Koeffizienten. D.h. \n",
    "$$f(\\lambda) = \\sum_{k=-s}^{s} t_k \\exp(-i\\lambda)^k.$$  \n",
    "Wir nutzen diese Koeffizienten zur Konstruktion von \n",
    "\n",
    "$$C_{n}(f)=\\begin{pmatrix} \n",
    "t_0    & \\ldots & t_{-s}&  \\mathbf{0}_m     &t_{s} &\\ldots & t_{1}   \\\\\n",
    "\\vdots &        &       & \\ddots&      &\\ddots & \\vdots  \\\\\n",
    "t_{s}  &        &       &       &      &       & t_{s}   \\\\\n",
    " \\mathbf{0}_m^T       &\\ddots  &       &   t_0 &      & \\ddots&     \\mathbf{0}_m^T     \\\\ \n",
    "t_{-s} &        &       &       &      &       & t_{-s}  \\\\\n",
    "\\vdots & \\ddots &       & \\ddots&      &       & \\vdots  \\\\\n",
    "t_{-1} & \\ldots & t_{-s}&  \\mathbf{0}_m      &  t_s & \\ldots & t_0\n",
    "\\end{pmatrix} \\in K^{n \\times n}, \\mbox{mit}\\; n > 2s+1.$$\n",
    "\n",
    "$C_n(f)$ ist zyklisch und besitzt die Eigenwerte $\\{\\psi_{n,j}\\}$.\n",
    "\n",
    "1. Zeigen Sie, dass für die Eigenwerte von $C_n(f)$ gilt $\\psi_{n,j} = f(\\frac{2 \\pi j}{n})$.\n",
    "2. Folgern Sie daraus, dass\n",
    "$$ \\lim_{n \\to \\infty} \\frac{1}{n} \\sum_{j=0}^{n-1} \\psi_{n,j}^s = \\frac{1}{2\\pi}\\int_{0}^{2\\pi} f(\\lambda)^s \\mathrm{d}\\lambda$$\n",
    "3. Sei $C_n(f)$ hermitesch und $F$ eine stetige Funktion, definiert auf dem Bild von $f(\\lambda)$. \n",
    "Zeigen Sie\n",
    "$$ \\lim_{n \\to \\infty} \\frac{1}{n} \\sum_{j=0}^{n-1} F(\\psi_{n,j}) = \\frac{1}{2\\pi}\\int_{0}^{2\\pi} F(f(\\lambda)) \\mathrm{d}\\lambda$$\n",
    "\n",
    "__Tipp__: Nutzen Sie für 3. den Satz von Weierstraß. Dieser besagt, dass für jede stetige Funktion $F:[a,b] \\mapsto K$ eine Folge von Polynomen $\\{p_n\\}$ existiert, s.d. $$ \\lim_{n \\to \\infty} p_n(x) =F(x) $$\n",
    "gleichmäßig auf $[a,b]$ konvergiert."
   ]
  },
  {
   "cell_type": "markdown",
   "metadata": {
    "collapsed": true
   },
   "source": [
    "### Über Toeplitz Matrizen (Teil 2)\n",
    "Sein $f(\\lambda):[0,2\\pi]\\mapsto C$ eine Funktion der *Wiener Klasse* und $\\{t_k\\}_{-s}^{s}$ die zugehörigen \n",
    "Fourier Koeffizienten. Wir nutzen diese Koeffizienten zur Konstruktion von \n",
    "\n",
    "$$T_{n}(f)=\\begin{pmatrix} \n",
    "t_0    & \\ldots & t_{-s}& & & & \\\\\n",
    "\\vdots &        &       & \\ddots & & &  \\\\\n",
    "t_{s}  &        &       &       &      &       &   \\\\\n",
    "       &\\ddots  &       &   t_0 &      & \\ddots&       \\\\ \n",
    "& & &       &      &       & t_{-s}  \\\\\n",
    "& & & \\ddots & &       & \\vdots  \\\\\n",
    " & & &       &  t_s & \\ldots & t_0\n",
    "\\end{pmatrix} \\in K^{n \\times n}, \\mbox{mit}\\; n > 2s+1.$$\n",
    "Diese nennt man eine Band-Toeplitz-Matrix. Die Eigenwerte von $T_n(f)$ nennen wir $\\{\\tau_{n,k}\\}$. \n",
    "\n",
    "1. Zeigen Sie: $C_n(f) \\sim T_n(f)$\n",
    "2. Sei $f(\\lambda)$ zusätzlich reel-wertig. Beweisen Sie, dass für ein stetiges $F:\\mbox{Bild}(f)\\mapsto K$ \n",
    "$$ \\lim_{n \\to \\infty} \\frac{1}{n} \\sum_{j=0}^{n-1} F(\\tau_{n,j}) = \\frac{1}{2\\pi}\\int_{0}^{2\\pi} F(f(\\lambda)) \\mathrm{d}\\lambda$$gilt.\n",
    "3. Es gelte nun zusätzlich $f(\\lambda) >0$, zeigen Sie mithilfe eines geeigneten $F$, dass \n",
    "$$ \\lim_{n \\to \\infty} \\mbox{det}(T_n(f))^{1/n} =\\lim_{n \\to \\infty} \\mbox{det}(C_n(f))^{1/n}$$ gilt.\n",
    "\n",
    "__Tipp__:\n",
    "Für zwei asymptotisch äquivalente Folgen von Matrizen $\\{A_n\\}$ und $\\{B_n\\}$, mit den Eigenwerten $\\{\\alpha_{n,i}\\}$ und $\\{\\beta_{n,i}\\}$, kann man \n",
    "$$ \\lim_{n \\to \\infty} \\frac{1}{n} \\sum_{k=0}^{n-1} (\\alpha_{n,k}^s - \\beta_{n,k}^s) = 0$$\n",
    "zeigen, solange $s$ ein positiver integer ist. Diese Aussagen kann ohne Beweis verwendet werden."
   ]
  },
  {
   "cell_type": "code",
   "execution_count": null,
   "metadata": {
    "collapsed": true
   },
   "outputs": [],
   "source": []
  }
 ],
 "metadata": {
  "kernelspec": {
   "display_name": "Python 2",
   "language": "python",
   "name": "python2"
  },
  "language_info": {
   "codemirror_mode": {
    "name": "ipython",
    "version": 2
   },
   "file_extension": ".py",
   "mimetype": "text/x-python",
   "name": "python",
   "nbconvert_exporter": "python",
   "pygments_lexer": "ipython2",
   "version": "2.7.11"
  }
 },
 "nbformat": 4,
 "nbformat_minor": 0
}
