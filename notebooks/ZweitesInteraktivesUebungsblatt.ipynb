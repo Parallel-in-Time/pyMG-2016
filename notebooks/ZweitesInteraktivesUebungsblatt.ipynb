{
 "cells": [
  {
   "cell_type": "markdown",
   "metadata": {},
   "source": [
    "# Zweites interaktives Übungsblatt"
   ]
  },
  {
   "cell_type": "markdown",
   "metadata": {},
   "source": [
    "### Vorgeplänkel"
   ]
  },
  {
   "cell_type": "code",
   "execution_count": null,
   "metadata": {
    "collapsed": true
   },
   "outputs": [],
   "source": [
    "import sys\n",
    "# Diese Zeile muss angepasst werden!\n",
    "sys.path.append(\"/home/moser/MG_2016/pyMG-2016/\")\n",
    "# sys.path.append(\"/home/dima/lectures/MG/pyMG/\")\n",
    "import scipy as sp\n",
    "import scipy.sparse.linalg as sprsla\n",
    "import numpy as np\n",
    "import matplotlib as mplt\n",
    "import matplotlib.pyplot as plt\n",
    "%matplotlib inline"
   ]
  },
  {
   "cell_type": "code",
   "execution_count": null,
   "metadata": {
    "collapsed": false
   },
   "outputs": [],
   "source": [
    "import pyamg\n",
    "from project.gauss_seidel import GaussSeidel\n",
    "from project.weighted_jacobi import WeightedJacobi\n",
    "from project.pfasst.plot_tools import eigvalue_plot_list, matrix_plot, matrix_row_plot,heat_map\n",
    "from project.pfasst.transfer_tools import to_dense\n",
    "from project.pfasst.matrix_method_tools import matrix_power\n",
    "from pymg.collocation_classes import CollGaussRadau_Right, CollSplineRight\n",
    "\n",
    "from project.mymultigrid import MyMultigrid\n",
    "from project.poisson1d import Poisson1D\n",
    "from project.linear_transfer import LinearTransfer\n",
    "from project.weighted_jacobi import WeightedJacobi"
   ]
  },
  {
   "cell_type": "code",
   "execution_count": null,
   "metadata": {
    "collapsed": true
   },
   "outputs": [],
   "source": [
    "def plot_mat_and_eigs(A):\n",
    "    A = to_dense(A) \n",
    "    fig1, (ax2, ax) = plt.subplots(ncols=2,figsize=(15,5))\n",
    "    \n",
    "    plt_mat = ax.imshow(A, cmap=plt.cm.jet, interpolation='nearest')\n",
    "    ax.spines['left'].set_position(('outward', 10))\n",
    "    ax.spines['bottom'].set_position(('outward', 10))\n",
    "    ax.spines['right'].set_visible(False)\n",
    "    ax.spines['top'].set_visible(False)\n",
    "\n",
    "    ax.yaxis.set_ticks_position('left')\n",
    "    ax.xaxis.set_ticks_position('bottom')\n",
    "\n",
    "    plt.colorbar(plt_mat)\n",
    "    \n",
    "    eig=sp.linalg.eigvals(to_dense(A))\n",
    "    real_part = np.real(eig)\n",
    "    img_part = np.imag(eig)\n",
    "    \n",
    "    ax2.plot(real_part,img_part,'bo')\n",
    "    ax2.set_xlabel(\"real part\")\n",
    "    ax2.set_ylabel(\"img part\")\n",
    "    ax2.set_title('eigenvalues')\n",
    "    \n",
    "    fig1.tight_layout()\n",
    "    plt.show()\n",
    "\n",
    "def plot_solution(sol,N_t):\n",
    "    heat_map(sol.reshape(N_t,-1))\n",
    "\n",
    "def lineplot(vertices, indices, linewidths=1):\n",
    "    \"\"\"Plot 2D line segments\"\"\"\n",
    "    vertices = np.asarray(vertices)\n",
    "    indices = np.asarray(indices)\n",
    "    \n",
    "    #3d tensor [segment index][vertex index][x/y value]\n",
    "    lines = vertices[np.ravel(indices),:].reshape((indices.shape[0],2,2))\n",
    "    \n",
    "    col = mplt.collections.LineCollection(lines)\n",
    "    col.set_color('k')\n",
    "    col.set_linewidth(linewidths)\n",
    "\n",
    "    sub = mplt.pylab.gca()\n",
    "    sub.add_collection(col,autolim=True)\n",
    "    sub.autoscale_view()"
   ]
  },
  {
   "cell_type": "code",
   "execution_count": null,
   "metadata": {
    "collapsed": true
   },
   "outputs": [],
   "source": [
    "def system_matrix_poisson1d(n):\n",
    "    hh1d = Poisson1D(n)\n",
    "    return hh1d.A\n",
    "\n",
    "def spec_rad(A):\n",
    "    return np.max(np.abs(sp.linalg.eigvals(to_dense(A))))"
   ]
  },
  {
   "cell_type": "markdown",
   "metadata": {},
   "source": [
    "### Erste Schritte in pyAMG"
   ]
  },
  {
   "cell_type": "markdown",
   "metadata": {},
   "source": [
    "Wir beginnnen mit einem Vergleich zwischen geometrischem und algebraischen Multigrid. Zunächst geometrisches Multigrid."
   ]
  },
  {
   "cell_type": "code",
   "execution_count": null,
   "metadata": {
    "collapsed": false
   },
   "outputs": [],
   "source": [
    "ndofs = 15\n",
    "niter_list = []\n",
    "nlevels = int(np.log2(ndofs+1))\n",
    "\n",
    "prob = Poisson1D(ndofs=ndofs)\n",
    "\n",
    "mymg = MyMultigrid(ndofs=ndofs, nlevels=nlevels)\n",
    "mymg.attach_transfer(LinearTransfer)\n",
    "mymg.attach_smoother(WeightedJacobi,prob.A,omega=2.0/3.0)\n",
    "# mymg.attach_smoother(GaussSeidel,prob.A)\n",
    "\n",
    "k = 6\n",
    "xvalues = np.array([(i+1) * prob.dx for i in range(prob.ndofs)])\n",
    "prob.rhs = (np.pi*k)**2 * np.sin(np.pi*k*xvalues)\n",
    "\n",
    "uex = sprsla.spsolve(prob.A, prob.rhs)\n",
    "\n",
    "res = 1\n",
    "niter = 0\n",
    "err = []\n",
    "u = np.zeros(uex.size)\n",
    "res_list_mg = []\n",
    "\n",
    "print nlevels\n",
    "\n",
    "while res > 1E-10 and niter < 10:\n",
    "    niter += 1\n",
    "    u = mymg.do_v_cycle(u, prob.rhs, 2, 2, 0)\n",
    "    res = np.linalg.norm(prob.A.dot(u)-prob.rhs, np.inf)\n",
    "    res_list_mg.append(res)\n",
    "    err.append(np.linalg.norm(u-uex, np.inf))\n",
    "    print(niter,res,err[-1])\n"
   ]
  },
  {
   "cell_type": "code",
   "execution_count": null,
   "metadata": {
    "collapsed": false
   },
   "outputs": [],
   "source": [
    "plot_mat_and_eigs(prob.A)"
   ]
  },
  {
   "cell_type": "code",
   "execution_count": null,
   "metadata": {
    "collapsed": false
   },
   "outputs": [],
   "source": [
    "mls = pyamg.ruge_stuben_solver(prob.A,max_levels = 10, max_coarse = 1,CF='RS',keep=True)\n",
    "print mls\n",
    "res_list_amg = []\n",
    "sol = mls.solve(b=prob.rhs, x0=np.zeros(ndofs),tol=1e-10,residuals=res_list_amg)"
   ]
  },
  {
   "cell_type": "code",
   "execution_count": null,
   "metadata": {
    "collapsed": false
   },
   "outputs": [],
   "source": [
    "plt.semilogy(res_list_amg)\n",
    "plt.semilogy(res_list_mg)"
   ]
  },
  {
   "cell_type": "code",
   "execution_count": null,
   "metadata": {
    "collapsed": false
   },
   "outputs": [],
   "source": [
    "# The CF splitting, 1 == C-node and 0 == F-node\n",
    "splitting = mls.levels[0].splitting\n",
    "C_nodes = splitting == 1\n",
    "F_nodes = splitting == 0\n",
    "plt.figure(figsize=(10,2))\n",
    "V = np.zeros((ndofs,2))\n",
    "V[:,0] = prob.domain\n",
    "plt.scatter(V[:,0][C_nodes], V[:,1][C_nodes], c='r', s=200.0)  #plot C-nodes in red\n",
    "plt.scatter(V[:,0][F_nodes], V[:,1][F_nodes], c='b', s=200.0)  #plot F-nodes in blue\n",
    "plt.show()"
   ]
  },
  {
   "cell_type": "markdown",
   "metadata": {},
   "source": [
    "**Frage**\n",
    "\n",
    "AMG führt hier zum selben Ergebnis wie ein einfaches geometrischen Multigrid. \n",
    "Warum sollte man also AMG verwenden?"
   ]
  },
  {
   "cell_type": "markdown",
   "metadata": {},
   "source": [
    "### Zeitabhängigkeit"
   ]
  },
  {
   "cell_type": "markdown",
   "metadata": {},
   "source": [
    "Anstatt \n",
    "\n",
    "$$ \\Delta u(x) = 0,\\quad u(0)=u(1)=0 $$\n",
    "\n",
    "betrachten wir \n",
    "\n",
    "$$ u_t(t,x)=\\Delta u(t,x) ,\\quad u(t,0)=u(t,1)=0, u(0,x) = u_0. $$\n",
    "\n",
    "Wir verwenden die *Rothe Methode* um in jedem Schritt wieder eine elliptische PDGL zu lösen.\n",
    "\n",
    "$$ u_{i+1}(x)-u_{i}(x) = \\Delta t \\Delta u_{i+1}(x) $$\n",
    "\n",
    "Wir diskretisieren weiter ...\n",
    "\n",
    "$$ u_{i+1}-u_{i} = \\Delta t \\mathbf{A} u_{i+1} \\\\\n",
    "(\\mathbf{I} - \\Delta t \\mathbf{A})u_{i+1} = u_i\n",
    "$$\n",
    "\n",
    "Mehrere Schritte dieser Art können als ein System geschrieben werden."
   ]
  },
  {
   "cell_type": "code",
   "execution_count": null,
   "metadata": {
    "collapsed": true
   },
   "outputs": [],
   "source": [
    "def impl_euler_system(n_steps,dt,A):\n",
    "    I_L = sp.sparse.eye(n_steps,format='csc')\n",
    "    I_N = sp.sparse.eye(A.shape[0],format='csc')    \n",
    "    \n",
    "    if n_steps == 1:\n",
    "        return I_N - dt*A\n",
    "    else:\n",
    "        E_mat = sp.sparse.diags([1], [-1], shape=(n_steps, n_steps)).tocsc()   \n",
    "\n",
    "        As = [[I_L,I_N],[-I_L*dt,-A],[-E_mat,I_N]]\n",
    "\n",
    "        return reduce(lambda a, b: a + b, map(lambda a_row: reduce(lambda a, b: sp.sparse.kron(a, b), a_row), As))\n",
    "    \n",
    "def impl_euler_rhs(n_steps,domain,k):\n",
    "    rhs = np.zeros(n_steps*domain.size)\n",
    "    init = np.sin(domain*k*np.pi)\n",
    "    rhs[:domain.size] = init\n",
    "    return rhs\n",
    "\n",
    "def impl_euler_x0(n_steps,domain,k):\n",
    "    init = np.sin(domain*k*np.pi)\n",
    "    return np.kron(np.ones(n_steps), init)"
   ]
  },
  {
   "cell_type": "code",
   "execution_count": null,
   "metadata": {
    "collapsed": false
   },
   "outputs": [],
   "source": [
    "plot_mat_and_eigs(impl_euler_system(2,0.1,prob.A))"
   ]
  },
  {
   "cell_type": "code",
   "execution_count": null,
   "metadata": {
    "collapsed": false
   },
   "outputs": [],
   "source": [
    "n_steps = 20\n",
    "dt = 1e-2\n",
    "k = 2\n",
    "M = impl_euler_system(n_steps,dt,prob.A)\n",
    "rhs = impl_euler_rhs(n_steps,prob.domain,k)\n",
    "x0 = impl_euler_x0(n_steps,prob.domain,k)\n",
    "sol=sprsla.spsolve(M,rhs)\n",
    "plot_solution(sol,n_steps)"
   ]
  },
  {
   "cell_type": "code",
   "execution_count": null,
   "metadata": {
    "collapsed": false
   },
   "outputs": [],
   "source": [
    "mls = pyamg.ruge_stuben_solver(M,max_levels = 10, max_coarse = 1,CF='RS',keep=True)\n",
    "print mls\n",
    "res_amg_list = []\n",
    "sol = mls.solve(b=rhs, x0=x0,tol=1e-10,residuals=res_amg_list)\n",
    "plt.semilogy(res_amg_list)"
   ]
  },
  {
   "cell_type": "code",
   "execution_count": null,
   "metadata": {
    "collapsed": false
   },
   "outputs": [],
   "source": [
    "# The CF splitting, 1 == C-node and 0 == F-node\n",
    "V = np.zeros((ndofs*n_steps,2))\n",
    "t_space = np.array([(i) * dt for i in range(n_steps)])\n",
    "x_space = prob.domain\n",
    "\n",
    "for j in range(n_steps):\n",
    "    for k in  range(ndofs):\n",
    "        V[ndofs*j+k,0]=x_space[k]\n",
    "        V[ndofs*j+k,1]=t_space[j]\n",
    "\n",
    "E = np.vstack((M.tocoo().row,M.tocoo().col)).T\n",
    "\n",
    "splitting = mls.levels[0].splitting\n",
    "C_nodes = splitting == 1\n",
    "F_nodes = splitting == 0\n",
    "plt.figure(figsize=(10,10))\n",
    "\n",
    "lineplot(V,E,0.1)\n",
    "\n",
    "plt.scatter(V[:,0][C_nodes], V[:,1][C_nodes], c='r', s=200.0)  #plot C-nodes in red\n",
    "plt.scatter(V[:,0][F_nodes], V[:,1][F_nodes], c='b', s=200.0)  #plot F-nodes in blue\n",
    "plt.show()"
   ]
  },
  {
   "cell_type": "markdown",
   "metadata": {},
   "source": [
    "**Aufgabe**\n",
    "\n",
    "Probieren Sie verschiedene $dt$ aus, wie verändert sich die Vergröberungsstrategien von AMG?\n",
    "Welche Vergröberungsstrategien erkennt man?"
   ]
  },
  {
   "cell_type": "markdown",
   "metadata": {},
   "source": [
    "### Das Q"
   ]
  },
  {
   "cell_type": "markdown",
   "metadata": {},
   "source": [
    "Wichtiger Bestandteil für unseren Formalismus ist die Quadratur-Matrix $Q$. Sei $v$ der Vektor der die Funktionsauswertungen der Funktion $f$ an den Quadratur-Knoten beinhaltet, so entspricht $Qv$ einer numerischen Approximation von $F(t)-F(t_0)$ ausgewertet an "
   ]
  },
  {
   "cell_type": "code",
   "execution_count": null,
   "metadata": {
    "collapsed": true
   },
   "outputs": [],
   "source": [
    "def Q_mat_and_nodes(N, which='radau_r'):\n",
    "    if which is 'radau_r':\n",
    "        cgr = CollGaussRadau_Right(N,0.0,1.0)\n",
    "        return cgr.Qmat[1:,1:], cgr.nodes\n",
    "    elif which is 'spline':\n",
    "        spl = CollSplineRight(N,0,1,4)\n",
    "        return spl.Qmat[1:,1:], spl.nodes\n",
    "    elif which is 'radau_delta':\n",
    "        cgr = CollGaussRadau_Right(N,0.0,1.0)\n",
    "        return cgr.QDmat, cgr.nodes\n",
    "    elif which is 'spline_delta':\n",
    "        spl = CollSplineRight(N,0,1,1)\n",
    "        return spl.QDmat, spl.nodes\n",
    "        "
   ]
  },
  {
   "cell_type": "markdown",
   "metadata": {},
   "source": [
    "**Aufgabe:**\n",
    "\n",
    "Plotten Sie mithilfe von `plot_mat_and_eigs` die Q-Matrix für verschiedene $N$ mit und ohne splines an. Wann geht das ganze schief? "
   ]
  },
  {
   "cell_type": "code",
   "execution_count": null,
   "metadata": {
    "collapsed": false
   },
   "outputs": [],
   "source": []
  },
  {
   "cell_type": "markdown",
   "metadata": {},
   "source": [
    "**Aufgabe**\n",
    "\n",
    "Testen sie nun für verschiedene Konfigurationen, wie gut Monome bis zur Ordnung 20 integriert werden."
   ]
  },
  {
   "cell_type": "code",
   "execution_count": null,
   "metadata": {
    "collapsed": false
   },
   "outputs": [],
   "source": [
    "# Als Beispiel der lineare Fall\n",
    "N = 3\n",
    "Q,nodes = Q_mat_and_nodes(N)\n",
    "v = nodes.copy()\n",
    "e =  Q.dot(v)-v**2/2\n",
    "print np.linalg.norm(e) "
   ]
  },
  {
   "cell_type": "code",
   "execution_count": null,
   "metadata": {
    "collapsed": true
   },
   "outputs": [],
   "source": [
    "def test_monom_quadrature(Q,nodes,order):\n",
    "    v = nodes.copy()**order\n",
    "    e =  # Zeile hier einfügen\n",
    "    return np.linalg.norm(e)\n"
   ]
  },
  {
   "cell_type": "code",
   "execution_count": null,
   "metadata": {
    "collapsed": false
   },
   "outputs": [],
   "source": [
    "Q_5,nodes_5 = Q_mat_and_nodes(5)\n",
    "Q_10,nodes_10 = Q_mat_and_nodes(10)\n",
    "Q_50,nodes_50 = Q_mat_and_nodes(50)\n",
    "\n",
    "Q_s_5,nodes_s_5 = Q_mat_and_nodes(5,'spline')\n",
    "Q_s_10,nodes_s_10 = Q_mat_and_nodes(10,'spline')\n",
    "Q_s_50,nodes_s_50 = Q_mat_and_nodes(50,'spline')"
   ]
  },
  {
   "cell_type": "code",
   "execution_count": null,
   "metadata": {
    "collapsed": false
   },
   "outputs": [],
   "source": [
    "fig1, (ax1,ax2) = plt.subplots(ncols=2,figsize=(15,5),sharey=True)\n",
    "ax1.semilogy(range(1,20),map(lambda order:test_monom_quadrature(Q_5,nodes_5,order),range(1,20)))\n",
    "ax1.semilogy(range(1,20),map(lambda order:test_monom_quadrature(Q_10,nodes_10,order),range(1,20)))\n",
    "ax1.semilogy(range(1,20),map(lambda order:test_monom_quadrature(Q_50,nodes_50,order),range(1,20)))\n",
    "ax1.set_title(\"Gauss Radau\")\n",
    "ax2.semilogy(range(1,20),map(lambda order:test_monom_quadrature(Q_s_5,nodes_s_5,order),range(1,20)))\n",
    "ax2.semilogy(range(1,20),map(lambda order:test_monom_quadrature(Q_s_10,nodes_s_10,order),range(1,20)))\n",
    "ax2.semilogy(range(1,20),map(lambda order:test_monom_quadrature(Q_s_50,nodes_s_50,order),range(1,20)))\n",
    "ax2.set_title(\"Splines\")\n",
    "plt.show()"
   ]
  },
  {
   "cell_type": "markdown",
   "metadata": {},
   "source": [
    "**Frage** \n",
    "\n",
    "Wo ist der Unterschied zwischen GaussRadau und Splines?"
   ]
  },
  {
   "cell_type": "markdown",
   "metadata": {},
   "source": [
    "### Das Kollokationsproblem"
   ]
  },
  {
   "cell_type": "markdown",
   "metadata": {},
   "source": [
    "Wie wir in der Vorlesung gesehen haben, kann die Q-Matrix dazu genutzt werden um das Kollokationsproblem \n",
    "\n",
    "$$ \\left( \\mathbf{I} - \\Delta t \\cdot \\mathbf{Q}\\otimes\\mathbf{A} \\right)U = U_0 $$\n",
    "\n",
    "aufzustellen. Wobei A hierbei die Systemmatrix für das periodische Problem ist."
   ]
  },
  {
   "cell_type": "markdown",
   "metadata": {},
   "source": [
    "**Aufgabe** \n",
    "\n",
    "Schreiben Sie eine Funktion `colloc_mat(Nt,Nx,sig,dt,typ='radau_r')`, welche Kollokationsmatrix abhängig von $\\sigma,dt,N_x,$ und $N_t$ aufstellt. "
   ]
  },
  {
   "cell_type": "code",
   "execution_count": null,
   "metadata": {
    "collapsed": true
   },
   "outputs": [],
   "source": [
    "def colloc_mat(Nt,Nx,dt,typ='radau_r'):\n",
    "    I = # Zeile hier einfügen\n",
    "    Q,nod = Q_mat_and_nodes(Nt,typ)\n",
    "    A = -system_matrix_poisson1d(Nx)\n",
    "    return # Zeile hier einfügen"
   ]
  },
  {
   "cell_type": "markdown",
   "metadata": {},
   "source": [
    "**Buntebilderaufgabe**\n",
    "\n",
    "Plotten Sie mithilfe von `plot_mat_and_eigs` einige Konfigurationen. Welche Strukturen sind zu erkennen?"
   ]
  },
  {
   "cell_type": "code",
   "execution_count": null,
   "metadata": {
    "collapsed": false
   },
   "outputs": [],
   "source": [
    "plot_mat_and_eigs(to_dense(colloc_mat(3,10,0.1)))"
   ]
  },
  {
   "cell_type": "markdown",
   "metadata": {},
   "source": [
    "Nun brauchen wir noch eine rechte Seite um das lineare Gleichungssystem zu vervollständigen.\n",
    "Die rechte Seite entsteht durch einen \"spread\" auf die einzelnen Quadraturknoten. \n",
    "Wir werden nun Funktion $s_k(x) = \\sin(k\\pi x)$, ausgewertet auf den Raumknoten als Anfangswert verwenden."
   ]
  },
  {
   "cell_type": "code",
   "execution_count": null,
   "metadata": {
    "collapsed": true
   },
   "outputs": [],
   "source": [
    "def colloc_rhs(Nt,Nx,k):\n",
    "    dx = 1.0/(Nx+1)\n",
    "    domain = np.array([(i+1) * dx for i in range(Nx)])\n",
    "    init = np.sin(domain*k*np.pi)\n",
    "    return np.kron(np.ones(Nt),init)"
   ]
  },
  {
   "cell_type": "code",
   "execution_count": null,
   "metadata": {
    "collapsed": false
   },
   "outputs": [],
   "source": [
    "plot_solution(colloc_rhs(10,16,2),10)"
   ]
  },
  {
   "cell_type": "markdown",
   "metadata": {},
   "source": [
    "**Aufgabe**\n",
    "\n",
    "Finden sie mithilfe von `scipy` die Lößung des Kollokationsproblems und plotten Sie diese für $N_t=10, N_x=32,  dt=0.05$. Probieren sie verschiedene Konfigurationen aus. Was passiert für unterschiedliche $k$?"
   ]
  },
  {
   "cell_type": "code",
   "execution_count": null,
   "metadata": {
    "collapsed": false
   },
   "outputs": [],
   "source": [
    "Nx = 24\n",
    "Nt = 10\n",
    "k=2\n",
    "\n",
    "M = # Zeile hier einfügen\n",
    "rhs = # Zeile hier einfügen\n",
    "sol = sprsla.spsolve(M,rhs)\n",
    "plot_solution(sol,Nt)"
   ]
  },
  {
   "cell_type": "markdown",
   "metadata": {},
   "source": [
    "Desweiteren wollen wir nun mehrere dieser Kollokationsprobleme hintereinander aufreihen, \n",
    "wir stellen dementsprechend die Matrix\n",
    "$$ \\mathbf{I}_L\\otimes \\mathbf{I}_M \\otimes \\mathbf{I}_N -\\mathbf{I}_L\\otimes\\mathbf{Q}\\otimes\\mathbf{A}-\\mathbf{E}\\otimes\\mathbf{N}\\otimes\\mathbf{I}_N $$\n",
    "auf, wobei $L$ die Anzahl der Subintervale, $N$ die Anzahl der Freiheitsgraden im Raum und $M$ die Anzahl der Quadraturknoten ist."
   ]
  },
  {
   "cell_type": "code",
   "execution_count": null,
   "metadata": {
    "collapsed": true
   },
   "outputs": [],
   "source": [
    "def compound_colloc_mat(N,M,L,dt,typ='radau_r'):\n",
    "    \n",
    "    if L == 1:\n",
    "        return colloc_mat(M,N,dt,typ)\n",
    "    else:\n",
    "        I_N = sp.sparse.eye(N,format='csc')\n",
    "        I_M = sp.sparse.eye(M,format='csc')\n",
    "        I_L = sp.sparse.eye(L,format='csc')\n",
    "        \n",
    "        E_mat = sp.sparse.diags([1], [-1], shape=(L, L)).tocsc()\n",
    "        N_mat = np.zeros((M,M))\n",
    "        N_mat[:,-1] = 1.0\n",
    "        N_mat = N_mat\n",
    "        Q,nod = Q_mat_and_nodes(M,typ)\n",
    "        \n",
    "        A = -system_matrix_poisson1d(N)\n",
    "        \n",
    "        As = [[I_L,I_M,I_N],[-I_L*dt,Q,A],[-E_mat,N_mat,I_N]]\n",
    "\n",
    "        return reduce(lambda a, b: a + b, map(lambda a_row: reduce(lambda a, b: sp.sparse.kron(a, b), a_row), As))"
   ]
  },
  {
   "cell_type": "code",
   "execution_count": null,
   "metadata": {
    "collapsed": true
   },
   "outputs": [],
   "source": [
    "def compound_colloc_rhs(N,M,L,k):\n",
    "    rhs = np.zeros(N*M*L)\n",
    "    rhs[0:N*M] = colloc_rhs(M,N,k)\n",
    "    return rhs"
   ]
  },
  {
   "cell_type": "code",
   "execution_count": null,
   "metadata": {
    "collapsed": true
   },
   "outputs": [],
   "source": [
    "def compound_x0(N,M,L,rhs):\n",
    "    x0 = rhs.copy()\n",
    "    for k in range(L-1):\n",
    "        x0[(k+1)*N*M:(k+2)*N*M] = rhs[:N*M]\n",
    "    return x0"
   ]
  },
  {
   "cell_type": "code",
   "execution_count": null,
   "metadata": {
    "collapsed": false
   },
   "outputs": [],
   "source": [
    "plot_mat_and_eigs(to_dense(compound_colloc_mat(8,3,4,0.1)))"
   ]
  },
  {
   "cell_type": "markdown",
   "metadata": {},
   "source": [
    "### Und jetzt: pyAMG"
   ]
  },
  {
   "cell_type": "markdown",
   "metadata": {},
   "source": [
    "PyAMG bietet diverse Möglichkeiten zum Lösen des Systems (https://github.com/pyamg/pyamg/wiki/Examples)."
   ]
  },
  {
   "cell_type": "code",
   "execution_count": null,
   "metadata": {
    "collapsed": false
   },
   "outputs": [],
   "source": [
    "# Baue Kollokationsmatrix\n",
    "N = 255\n",
    "M = 5\n",
    "L = 10\n",
    "dt = 5e-5\n",
    "\n",
    "A = compound_colloc_mat(N,M,L,dt,\"radau_r\")\n",
    "rhs = compound_colloc_rhs(N,M,L,16)\n",
    "x0 = compound_x0(N,M,L,rhs)\n",
    "\n",
    "sol = sprsla.spsolve(A,rhs)\n",
    "plot_solution(sol,M*L)"
   ]
  },
  {
   "cell_type": "markdown",
   "metadata": {},
   "source": [
    "#### Blackboxsmoother"
   ]
  },
  {
   "cell_type": "code",
   "execution_count": null,
   "metadata": {
    "collapsed": false
   },
   "outputs": [],
   "source": [
    "bb_solution = pyamg.solve(A,rhs,verb=False, tol=1e-11,maxiter=10)"
   ]
  },
  {
   "cell_type": "code",
   "execution_count": null,
   "metadata": {
    "collapsed": false
   },
   "outputs": [],
   "source": [
    "plot_solution(bb_solution-sol,M*L)"
   ]
  },
  {
   "cell_type": "markdown",
   "metadata": {},
   "source": [
    "#### Classical AMG"
   ]
  },
  {
   "cell_type": "code",
   "execution_count": null,
   "metadata": {
    "collapsed": false
   },
   "outputs": [],
   "source": [
    "mls_rs = pyamg.ruge_stuben_solver(A, max_levels=10, CF='RS',keep=True)\n",
    "print mls_rs\n",
    "rs_residuals = []\n",
    "rs_solution = mls_rs.solve(b=rhs,x0=x0, tol=1e-10, residuals=rs_residuals )\n",
    "plt.semilogy(rs_residuals)\n",
    "plot_solution(rs_solution,M*L)"
   ]
  },
  {
   "cell_type": "markdown",
   "metadata": {},
   "source": [
    "**Aufgabe** \n",
    "\n",
    "Finden Sie experimentell heraus wo die Grenzen der AMG Löser sind, probieren Sie insbesondere verschiedene $\\Delta t$ aus. Finden Sie ein Setup welches den Kollokationsansatz und den Ansatz mit dem impl. Euler vergleichbar macht.\n",
    "Was fällt beim Vergleich auf?"
   ]
  },
  {
   "cell_type": "code",
   "execution_count": null,
   "metadata": {
    "collapsed": false
   },
   "outputs": [],
   "source": [
    "# Baue Kollokationsmatrix\n",
    "N = 255\n",
    "M = 5\n",
    "L = 10\n",
    "dt = 1e-2\n",
    "k=2\n",
    "\n",
    "A = compound_colloc_mat(N,M,L,dt,\"radau_r\")\n",
    "rhs = compound_colloc_rhs(N,M,L,k)\n",
    "x0 = compound_x0(N,M,L,rhs)\n",
    "\n",
    "A_impl_euler = # Zeile hier einfügen\n",
    "dx = 1.0/(N+1)\n",
    "domain = np.asarray([(i + 1) * dx for i in range(N)])\n",
    "rhs_impl_euler = impl_euler_rhs(L*M,domain,k)\n",
    "\n",
    "sol = sprsla.spsolve(A,rhs)\n",
    "sol_impl_euler = sprsla.spsolve(A_impl_euler,rhs_impl_euler)\n",
    "\n",
    "plot_solution(sol_impl_euler,M*L)\n",
    "plot_solution(sol,M*L)\n",
    "\n",
    "print np.linalg.norm(sol_impl_euler[-N:] - sol[-N:])"
   ]
  },
  {
   "cell_type": "code",
   "execution_count": null,
   "metadata": {
    "collapsed": false
   },
   "outputs": [],
   "source": [
    "mls_rs = pyamg.ruge_stuben_solver(A, max_levels=10, CF='RS',keep=True)\n",
    "print mls_rs\n",
    "rs_residuals = []\n",
    "rs_solution = mls_rs.solve(b=rhs,x0=x0, tol=1e-10, residuals=rs_residuals )\n",
    "plt.semilogy(rs_residuals)\n",
    "plot_solution(rs_solution,M*L)"
   ]
  },
  {
   "cell_type": "code",
   "execution_count": null,
   "metadata": {
    "collapsed": false
   },
   "outputs": [],
   "source": [
    "mls_rs = pyamg.ruge_stuben_solver(A_impl_euler, max_levels=10, CF='RS',keep=True)\n",
    "print mls_rs\n",
    "rs_residuals = []\n",
    "rs_solution = mls_rs.solve(b=rhs_impl_euler,x0=x0, tol=1e-10, residuals=rs_residuals )\n",
    "plt.semilogy(rs_residuals)\n",
    "plot_solution(rs_solution,M*L)"
   ]
  },
  {
   "cell_type": "markdown",
   "metadata": {},
   "source": [
    "### Feines und grobes Gitter"
   ]
  },
  {
   "cell_type": "markdown",
   "metadata": {},
   "source": [
    "Nun wollen wir uns etwas genauer anschauen was AMG macht."
   ]
  },
  {
   "cell_type": "code",
   "execution_count": null,
   "metadata": {
    "collapsed": true
   },
   "outputs": [],
   "source": [
    "def compound_collocation_vertices(n_space,n_comp,q_nodes,dt=1e-2,plot_it=True):\n",
    "    n_time = q_nodes.shape[0]\n",
    "    V = np.zeros((n_space*n_time*n_comp,2))\n",
    "    dx = 1.0/(n_space+1)\n",
    "    x_space = np.array([(i+1) * dx for i in range(n_space)])\n",
    "    t_space = q_nodes.copy() * dt\n",
    "    \n",
    "    for i in range(n_comp):\n",
    "        for j in range(n_time):\n",
    "            for k in  range(n_space):\n",
    "                V[n_time*n_space*i+n_space*j+k,0]=x_space[k]\n",
    "                V[n_time*n_space*i+n_space*j+k,1]=t_space[j]+i*dt\n",
    "                \n",
    "    if plot_it:\n",
    "        plt.figure(figsize=(10,10))\n",
    "        plt.scatter(V[:,0], V[:,1], c='r', s=100.0)\n",
    "#         if not with_initial_val:\n",
    "#             pylab.scatter(x_space,np.zeros(n_space),c='b',s=100.0)\n",
    "        plt.show()\n",
    "    return V\n",
    "\n",
    "def CF_plotter_classical(N,M,L,dt,typ='radau_r',symmetric=False):\n",
    "    Q,nodes = Q_mat_and_nodes(M,typ)\n",
    "    A = compound_colloc_mat(N,M,L,dt,typ)\n",
    "    V = compound_collocation_vertices(N,L,nodes,dt,plot_it=False)\n",
    "    E = np.vstack((A.tocoo().row,A.tocoo().col)).T\n",
    "    \n",
    "    if symmetric:\n",
    "        A = A.T.dot(A)\n",
    "    \n",
    "    # Use Ruge-Stuben Splitting Algorithm (use 'keep' in order to retain the splitting)\n",
    "    mls = pyamg.ruge_stuben_solver(A, max_levels=2, max_coarse=1, CF='RS',keep=True)\n",
    "#     print mls\n",
    "\n",
    "    # The CF splitting, 1 == C-node and 0 == F-node\n",
    "    splitting = mls.levels[0].splitting\n",
    "    C_nodes = splitting == 1\n",
    "    F_nodes = splitting == 0\n",
    "    plt.figure(figsize=(20,10))\n",
    "    lineplot(V, E,linewidths=.05)\n",
    "\n",
    "    plt.scatter(V[:,0][C_nodes], V[:,1][C_nodes], c='r', s=200.0)  #plot C-nodes in red\n",
    "    plt.scatter(V[:,0][F_nodes], V[:,1][F_nodes], c='b', s=200.0)  #plot F-nodes in blue\n",
    "    plt.show()\n",
    "    return mls\n"
   ]
  },
  {
   "cell_type": "markdown",
   "metadata": {},
   "source": [
    "**Aufgabe**\n",
    "\n",
    "Probieren Sie die Funktion `CF_plotter_classical` mit verschiedenen Parametern aus.\n",
    "Was fällt im Vergleich zum impliziten Euler Vorgehen auf?"
   ]
  },
  {
   "cell_type": "code",
   "execution_count": null,
   "metadata": {
    "collapsed": false
   },
   "outputs": [],
   "source": [
    "mls=CF_plotter_classical(7,5,2,1e1,typ='radau_r')\n",
    "print mls"
   ]
  },
  {
   "cell_type": "markdown",
   "metadata": {},
   "source": [
    "#### Das symmetrisierte Problem"
   ]
  },
  {
   "cell_type": "markdown",
   "metadata": {},
   "source": [
    "In der Vorlesung haben wir gelernt, dass die Theorie zu AMG auf sog. $\\mathbf{M}$ Matrizen aufgebaut ist. Das Kollokationsproblem erfüllt die meisten Eigenschaften davon nicht. Zudem sehen wir die schlechten Konvergenzeigenschaften von AMG für das kombinierte Kollokationsproblem.\n",
    "\n",
    "**Aufgabe**\n",
    "\n",
    "Symmetrisieren Sie das Problem und wenden Sie SmoothedAggregation und Classical AMG an."
   ]
  },
  {
   "cell_type": "code",
   "execution_count": null,
   "metadata": {
    "collapsed": false
   },
   "outputs": [],
   "source": [
    "# Baue Kollokationsmatrix\n",
    "N = 255\n",
    "M = 5\n",
    "L = 4\n",
    "dt = 1e-4\n",
    "\n",
    "A = compound_colloc_mat(N,M,L,dt,\"radau_r\")\n",
    "rhs = compound_colloc_rhs(N,M,L,16)\n",
    "x0 = compound_x0(N,M,L,rhs)\n",
    "\n",
    "A_sym =   # Zeile hier einfügen\n",
    "rhs_sym = # Zeile hier einfügen\n",
    "x0_sym =  # Zeile hier einfügen\n",
    "\n",
    "sol = sprsla.spsolve(A_sym,rhs_sym)\n",
    "plot_solution(sol,M*L)"
   ]
  },
  {
   "cell_type": "code",
   "execution_count": null,
   "metadata": {
    "collapsed": false
   },
   "outputs": [],
   "source": [
    "# Count of the non-zero entries \n",
    "print A_sym.nnz, A.nnz, (N*M*L)**2"
   ]
  },
  {
   "cell_type": "code",
   "execution_count": null,
   "metadata": {
    "collapsed": false
   },
   "outputs": [],
   "source": [
    "mls_sa = pyamg.ruge_stuben_solver(A_sym, max_levels=5, max_coarse=1, CF='RS',keep=True)\n",
    "print mls_sa\n",
    "sa_residuals = []\n",
    "sa_solution = mls_sa.solve(b=rhs_sym,x0=x0_sym, tol=1e-10, residuals=sa_residuals )\n",
    "plt.semilogy(sa_residuals)\n",
    "plot_solution(sa_solution, M*L)"
   ]
  },
  {
   "cell_type": "code",
   "execution_count": null,
   "metadata": {
    "collapsed": false
   },
   "outputs": [],
   "source": [
    "mls_sa = pyamg.ruge_stuben_solver(A, max_levels=5, max_coarse=1, CF='RS',keep=True)\n",
    "print mls_sa\n",
    "sa_residuals = []\n",
    "sa_solution = mls_sa.solve(b=rhs,x0=x0, tol=1e-10, residuals=sa_residuals )\n",
    "plt.semilogy(sa_residuals)\n",
    "plot_solution(sa_solution, M*L)"
   ]
  },
  {
   "cell_type": "markdown",
   "metadata": {},
   "source": [
    "**Aufgabe**\n",
    "\n",
    "Vergleichen Sie die Wahl der Grobgitterpunkte zwischen dem Kollokationionsproblem und seiner symmetrisierten Version."
   ]
  },
  {
   "cell_type": "code",
   "execution_count": null,
   "metadata": {
    "collapsed": true
   },
   "outputs": [],
   "source": [
    "N = 7 \n",
    "M = 5\n",
    "L = 2\n",
    "dt =1e-3"
   ]
  },
  {
   "cell_type": "code",
   "execution_count": null,
   "metadata": {
    "collapsed": false
   },
   "outputs": [],
   "source": [
    "mls=CF_plotter_classical(N,M,L,dt)\n",
    "print mls"
   ]
  },
  {
   "cell_type": "code",
   "execution_count": null,
   "metadata": {
    "collapsed": false
   },
   "outputs": [],
   "source": [
    "mls=CF_plotter_classical(N,M,L,dt,symmetric=True)\n",
    "print mls"
   ]
  }
 ],
 "metadata": {
  "kernelspec": {
   "display_name": "Python 2",
   "language": "python",
   "name": "python2"
  },
  "language_info": {
   "codemirror_mode": {
    "name": "ipython",
    "version": 2
   },
   "file_extension": ".py",
   "mimetype": "text/x-python",
   "name": "python",
   "nbconvert_exporter": "python",
   "pygments_lexer": "ipython2",
   "version": "2.7.11"
  }
 },
 "nbformat": 4,
 "nbformat_minor": 0
}
