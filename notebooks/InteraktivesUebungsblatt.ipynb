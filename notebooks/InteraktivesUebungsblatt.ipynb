{
 "cells": [
  {
   "cell_type": "markdown",
   "metadata": {},
   "source": [
    "# Interaktives Übungsblatt"
   ]
  },
  {
   "cell_type": "markdown",
   "metadata": {},
   "source": [
    "### Vorgeplänkel"
   ]
  },
  {
   "cell_type": "code",
   "execution_count": null,
   "metadata": {
    "collapsed": true
   },
   "outputs": [],
   "source": [
    "import sys\n",
    "# Diese Zeile muss angepasst werden!\n",
    "sys.path.append(\"/home/moser/MG_2016/pyMG/\")\n",
    "import scipy as sp\n",
    "import numpy as np\n",
    "import matplotlib.pyplot as plt\n",
    "%matplotlib inline"
   ]
  },
  {
   "cell_type": "code",
   "execution_count": null,
   "metadata": {
    "collapsed": true
   },
   "outputs": [],
   "source": [
    "import pymg\n",
    "from project.helmholtz1d import Helmholtz1D\n",
    "from project.helmholtz1d_periodic import Helmholtz1D_Periodic\n",
    "from project.gauss_seidel import GaussSeidel\n",
    "from project.weighted_jacobi import WeightedJacobi\n",
    "from project.pfasst.plot_tools import eigvalue_plot_list, matrix_plot, matrix_row_plot\n",
    "from project.pfasst.transfer_tools import to_dense\n",
    "from project.pfasst.matrix_method_tools import matrix_power"
   ]
  },
  {
   "cell_type": "code",
   "execution_count": null,
   "metadata": {
    "collapsed": true
   },
   "outputs": [],
   "source": [
    "def plot_3_eigvalueplots(A_p,A_z,A_m):\n",
    "    eig_p.append(sp.linalg.eigvals(to_dense(A_p)))\n",
    "    eig_z.append(sp.linalg.eigvals(to_dense(A_z)))\n",
    "    eig_m.append(sp.linalg.eigvals(to_dense(A_m)))\n",
    "    \n",
    "    real_part_p = np.real(eig_p[-1])\n",
    "    img_part_p = np.imag(eig_p[-1])\n",
    "    \n",
    "    real_part_z = np.real(eig_z[-1])\n",
    "    img_part_z = np.imag(eig_z[-1])\n",
    "    \n",
    "    real_part_m = np.real(eig_m[-1])\n",
    "    img_part_m = np.imag(eig_m[-1])\n",
    "    fig1, (ax1, ax2, ax3) = plt.subplots(ncols=3,figsize=(15,3))\n",
    "    \n",
    "    ax1.plot(real_part_p,img_part_p,'ro')\n",
    "    ax1.set_xlabel(\"real part\")\n",
    "    ax1.set_ylabel(\"img part\")\n",
    "    ax1.set_title('eigenvalues')\n",
    "    \n",
    "    ax2.plot(real_part_z,img_part_z,'bo')\n",
    "    ax2.set_xlabel(\"real part\")\n",
    "    ax2.set_ylabel(\"img part\")\n",
    "    ax2.set_title('eigenvalues')\n",
    "    \n",
    "    ax3.plot(real_part_m,img_part_m,'go')\n",
    "    ax3.set_xlabel(\"real part\")\n",
    "    ax3.set_ylabel(\"img part\")\n",
    "    ax3.set_title('eigenvalues')\n",
    "    \n",
    "    fig1.tight_layout()\n",
    "    plt.show()\n",
    "\n",
    "def plot_2_eigvalueplots(A_p,A_z):\n",
    "    eig_p.append(sp.linalg.eigvals(to_dense(A_p)))\n",
    "    eig_z.append(sp.linalg.eigvals(to_dense(A_z)))\n",
    "\n",
    "    \n",
    "    real_part_p = np.real(eig_p[-1])\n",
    "    img_part_p = np.imag(eig_p[-1])\n",
    "    \n",
    "    real_part_z = np.real(eig_z[-1])\n",
    "    img_part_z = np.imag(eig_z[-1])\n",
    "    \n",
    "    fig1, (ax1, ax2) = plt.subplots(ncols=2,figsize=(15,3))\n",
    "    \n",
    "    ax1.plot(real_part_p,img_part_p,'ro')\n",
    "    ax1.set_xlabel(\"real part\")\n",
    "    ax1.set_ylabel(\"img part\")\n",
    "    ax1.set_title('eigenvalues')\n",
    "    \n",
    "    ax2.plot(real_part_z,img_part_z,'bo')\n",
    "    ax2.set_xlabel(\"real part\")\n",
    "    ax2.set_ylabel(\"img part\")\n",
    "    ax2.set_title('eigenvalues')\n",
    "    \n",
    "    fig1.tight_layout()\n",
    "    plt.show()"
   ]
  },
  {
   "cell_type": "markdown",
   "metadata": {},
   "source": [
    "### Systemmatrizen\n",
    "\n",
    "Wir werden im Weiteren `pyMG` nutzen um die Systemmatrix für gegebene Parameter $ n$ und $\\sigma$ für das Helmholtz-Problem in 1D aufzustellen."
   ]
  },
  {
   "cell_type": "code",
   "execution_count": null,
   "metadata": {
    "collapsed": false
   },
   "outputs": [],
   "source": [
    "def system_matrix_hh1d(n,sig):\n",
    "    hh1d = Helmholtz1D(n, sig)\n",
    "    return hh1d.A\n",
    "\n",
    "def system_matrix_hh1d_periodic(n,sig):\n",
    "    hh1d = Helmholtz1D_Periodic(n, sig)\n",
    "    return hh1d.A\n",
    "\n",
    "def spec_rad(A):\n",
    "    return np.max(np.abs(sp.linalg.eigvals(to_dense(A))))\n"
   ]
  },
  {
   "cell_type": "markdown",
   "metadata": {},
   "source": [
    "Plotten Sie mithilfe von `matrix_plot` die Systemmatrizen für $\\sigma = 0$ und $n=10$."
   ]
  },
  {
   "cell_type": "code",
   "execution_count": null,
   "metadata": {
    "collapsed": false
   },
   "outputs": [],
   "source": [
    "matrix_plot(to_dense(system_matrix_hh1d(10,0)))\n",
    "matrix_plot(to_dense(system_matrix_hh1d_periodic(10,0)))"
   ]
  },
  {
   "cell_type": "markdown",
   "metadata": {},
   "source": [
    "**Aufgabe:** Plotten Sie mithilfe von `plot_3_eigvalueplots` die Eigenwerte der Systemmatrix für $n \\in [5,10,20]$ und $\\sigma = 100$,$\\sigma = -100$ und $\\sigma = 0$."
   ]
  },
  {
   "cell_type": "code",
   "execution_count": null,
   "metadata": {
    "collapsed": false
   },
   "outputs": [],
   "source": []
  },
  {
   "cell_type": "markdown",
   "metadata": {},
   "source": [
    "**Frage**: Wie unterscheiden sich die Spektren der verschiedenen Systemmatrizen?"
   ]
  },
  {
   "cell_type": "code",
   "execution_count": null,
   "metadata": {
    "collapsed": false
   },
   "outputs": [],
   "source": [
    "n=30\n",
    "for sigma in [1000,0,-1000]:\n",
    "    plot_2_eigvalueplots(system_matrix_hh1d(n,sigma),system_matrix_hh1d_periodic(n,sigma))"
   ]
  },
  {
   "cell_type": "markdown",
   "metadata": {},
   "source": [
    "### Iterationsmatrizen des Glätters"
   ]
  },
  {
   "cell_type": "markdown",
   "metadata": {},
   "source": [
    "**Frage**\n",
    "\n",
    "Weitaus spannender sind die Spektralradiien der Iterationsmatrizen eines Glätters. Warum?"
   ]
  },
  {
   "cell_type": "code",
   "execution_count": null,
   "metadata": {
    "collapsed": true
   },
   "outputs": [],
   "source": [
    "def iteration_matrix_wjac(n, sigma, periodic=True):\n",
    "    if periodic:\n",
    "        A = system_matrix_hh1d_periodic(n,sigma)\n",
    "    else:\n",
    "        A = system_matrix_hh1d(n,sigma)\n",
    "        \n",
    "    wjac = WeightedJacobi(A, 2.0/3.0)\n",
    "    P_inv = wjac.Pinv\n",
    "    return np.eye(n) - P_inv.dot(A)"
   ]
  },
  {
   "cell_type": "markdown",
   "metadata": {},
   "source": [
    "**Aufgabe**\n",
    "Plotten Sie die Iterationsmatrix des gewichteten Jacobi für verschiedene $\\sigma$. Zu welcher Klasse gehört diese Iterationsmatrix."
   ]
  },
  {
   "cell_type": "code",
   "execution_count": null,
   "metadata": {
    "collapsed": false
   },
   "outputs": [],
   "source": [
    "matrix_plot(iteration_matrix_wjac(10,-100))"
   ]
  },
  {
   "cell_type": "markdown",
   "metadata": {},
   "source": [
    "Gehen wir das ganze mal systematischer an!"
   ]
  },
  {
   "cell_type": "code",
   "execution_count": null,
   "metadata": {
    "collapsed": true
   },
   "outputs": [],
   "source": [
    "n = 10\n",
    "sigma_range = np.linspace(-100,100,100)\n",
    "sr_wjac_periodic = map(lambda sig : spec_rad(iteration_matrix_wjac(n, sig,periodic=True)), sigma_range)\n",
    "sr_wjac = map(lambda sig : spec_rad(iteration_matrix_wjac(n, sig,periodic=False)), sigma_range)"
   ]
  },
  {
   "cell_type": "code",
   "execution_count": null,
   "metadata": {
    "collapsed": false
   },
   "outputs": [],
   "source": [
    "# Achsen festhalten\n",
    "\n",
    "fig1, (ax1, ax2, ax3) = plt.subplots(ncols=3,figsize=(15,4))\n",
    "\n",
    "ax1.plot(sigma_range, sr_wjac_periodic,'k-')\n",
    "ax1.set_xlabel('$\\sigma$')\n",
    "ax1.set_ylabel(\"spectral radius\")\n",
    "ax1.set_title('periodic')\n",
    "\n",
    "ax2.plot(sigma_range, sr_wjac,'k-')\n",
    "ax2.set_xlabel('$\\sigma$')\n",
    "ax2.set_ylabel(\"spectral radius\")\n",
    "ax2.set_title('non-periodic')\n",
    "\n",
    "ax3.plot(sigma_range, np.abs(np.asarray(sr_wjac) - np.asarray(sr_wjac_periodic)),'k-')\n",
    "ax3.set_xlabel('$\\sigma$')\n",
    "ax3.set_ylabel(\"spectral radius\")\n",
    "ax3.set_title('difference')\n",
    "\n",
    "fig1.tight_layout()\n",
    "plt.show()"
   ]
  },
  {
   "cell_type": "markdown",
   "metadata": {},
   "source": [
    "**Frage** : Wie verhalten sich die Spektren für das periodische Problem zu den Problemen mit Dirichletrandbedingungen für verschiedene $\\sigma$ und $n$? Erkenntnis durch ausprobieren!"
   ]
  },
  {
   "cell_type": "markdown",
   "metadata": {},
   "source": [
    "**Aufgabe**\n",
    "\n",
    "Nutzen Sie die folgende Funktion, um die Iterationsmatrix für Gauß-Seidel abhängig von $\\sigma$ und $n$ zu berechne. Finden Sie heraus wie sich der Spektralradius für verschiedene $\\sigma$ und den periodischen, sowie nicht periodischen Fall verhält. "
   ]
  },
  {
   "cell_type": "code",
   "execution_count": null,
   "metadata": {
    "collapsed": true
   },
   "outputs": [],
   "source": [
    "def iteration_matrix_gs(n, sigma, periodic=True):\n",
    "    \n",
    "    if periodic:\n",
    "        A = system_matrix_hh1d_periodic(n,sigma)\n",
    "    else:\n",
    "        A = system_matrix_hh1d(n,sigma)\n",
    "        \n",
    "    gs = GaussSeidel(A)\n",
    "    P_inv = gs.Pinv\n",
    "    return np.eye(n) - P_inv.dot(A)"
   ]
  },
  {
   "cell_type": "markdown",
   "metadata": {},
   "source": [
    "**Frage**\n",
    "\n",
    "Ist die Iterationsmatrix zyklisch?"
   ]
  },
  {
   "cell_type": "code",
   "execution_count": null,
   "metadata": {
    "collapsed": false
   },
   "outputs": [],
   "source": [
    "matrix_plot(iteration_matrix_gs(10,0,True))"
   ]
  },
  {
   "cell_type": "markdown",
   "metadata": {},
   "source": [
    "Nochmal das Ganze mit mehr System!"
   ]
  },
  {
   "cell_type": "code",
   "execution_count": null,
   "metadata": {
    "collapsed": false
   },
   "outputs": [],
   "source": [
    "sr_gs_periodic = map(lambda sig : spec_rad(iteration_matrix_gs(n, sig,periodic=True)), sigma_range)\n",
    "sr_gs = map(lambda sig : spec_rad(iteration_matrix_gs(n, sig,periodic=False)), sigma_range)"
   ]
  },
  {
   "cell_type": "code",
   "execution_count": null,
   "metadata": {
    "collapsed": false
   },
   "outputs": [],
   "source": [
    "\n",
    "fig1, (ax1, ax2, ax3) = plt.subplots(ncols=3,figsize=(15,4))\n",
    "\n",
    "ax1.plot(sigma_range, sr_gs_periodic,'k-')\n",
    "ax1.set_xlabel('$\\sigma$')\n",
    "ax1.set_ylabel(\"spectral radius\")\n",
    "ax1.set_title('periodic')\n",
    "\n",
    "ax2.plot(sigma_range, sr_gs,'k-')\n",
    "ax2.set_xlabel('$\\sigma$')\n",
    "ax2.set_ylabel(\"spectral radius\")\n",
    "ax2.set_title('non-periodic')\n",
    "\n",
    "ax3.plot(sigma_range, np.abs(np.asarray(sr_gs) - np.asarray(sr_gs_periodic)),'k-')\n",
    "ax3.set_xlabel('$\\sigma$')\n",
    "ax3.set_ylabel(\"spectral radius\")\n",
    "ax3.set_title('difference')\n",
    "\n",
    "fig1.tight_layout()\n",
    "plt.show()"
   ]
  },
  {
   "cell_type": "markdown",
   "metadata": {},
   "source": [
    "**Frage** : Wie verhalten sich die Spektren für das periodische Problem zu den Problemen mit Dirichletrandbedingungen für verschiedene $\\sigma$ und $n$? Erkenntnis durch ausprobieren!"
   ]
  },
  {
   "cell_type": "markdown",
   "metadata": {},
   "source": [
    "### Das Leben im Fourier-Raum"
   ]
  },
  {
   "cell_type": "markdown",
   "metadata": {},
   "source": [
    "Wir können mithilfe der Moden\n",
    "$$v^{(m)} = \\frac{1}{\\sqrt{n}} \\begin{pmatrix}1 \\\\ e^{-2\\pi i m/n} \\\\ \\vdots \\\\  e^{-2\\pi i m(n-1)/n} \\end{pmatrix} $$\n",
    "eine Transformation definieren. Die uns den Operatoren/Matrizen in den Fourier-Raum übersetzt."
   ]
  },
  {
   "cell_type": "code",
   "execution_count": null,
   "metadata": {
    "collapsed": true
   },
   "outputs": [],
   "source": [
    "def transformation_matrix_fourier_basis(N):\n",
    "    psi = np.zeros((N,N),dtype=np.complex128)\n",
    "    for i in range(N):\n",
    "        for j in range(N):\n",
    "            psi[i,j] = np.exp(2*np.pi*1.0j*j*i/N)\n",
    "    return psi/np.sqrt(N)\n",
    "\n",
    "def plot_fourier_transformed(A):\n",
    "    A = to_dense(A)\n",
    "    n = A.shape[0]\n",
    "    PSI_trafo = transformation_matrix_fourier_basis(n)\n",
    "    PSI_trafo_inv =  sp.linalg.inv(PSI_trafo)\n",
    "    A_traf = np.dot(PSI_trafo_inv, np.dot(A,PSI_trafo))\n",
    "    matrix_row_plot([A,np.abs(A_traf)])"
   ]
  },
  {
   "cell_type": "code",
   "execution_count": null,
   "metadata": {
    "collapsed": false
   },
   "outputs": [],
   "source": [
    "plot_fourier_transformed(iteration_matrix_wjac(16,0))\n",
    "plot_fourier_transformed(iteration_matrix_gs(16,0))"
   ]
  },
  {
   "cell_type": "markdown",
   "metadata": {},
   "source": [
    "**Frage:** Was ist hier passiert? Und was passiert für unterschiedliche $\\sigma$?"
   ]
  },
  {
   "cell_type": "markdown",
   "metadata": {},
   "source": [
    "Die hohen Eigenwerte extrahiert man nun durch auspicken der richtigen Diagonalwerte nach der Transformation, falls die Matrix **zyklisch** ist. "
   ]
  },
  {
   "cell_type": "code",
   "execution_count": null,
   "metadata": {
    "collapsed": true
   },
   "outputs": [],
   "source": [
    "def get_theta_eigvals(A, plot=False,which='all'):\n",
    "    A = to_dense(A)\n",
    "    n = A.shape[0]\n",
    "    PSI_trafo = transformation_matrix_fourier_basis(n)\n",
    "    PSI_trafo_inv =  sp.linalg.inv(PSI_trafo)\n",
    "    A_traf = np.dot(PSI_trafo_inv, np.dot(A,PSI_trafo))\n",
    "    if plot:\n",
    "        matrix_plot(np.abs(A_traf))\n",
    "    eigvals =  np.asarray(map(lambda k : A_traf[k,k],range(n)))\n",
    "    if which is 'high':\n",
    "        return eigvals[np.ceil(n/4):np.floor(3.0*n/4)]\n",
    "    elif which is 'low':\n",
    "        return np.hstack([eigvals[:np.floor(n/4)],eigvals[np.ceil(3.0*n/4):]])\n",
    "    else:\n",
    "        return eigvals"
   ]
  },
  {
   "cell_type": "markdown",
   "metadata": {},
   "source": [
    "**Frage**\n",
    "\n",
    "Verhält sich der gewichtete Jacobi Glätter wie in der Vorlesung vorraussgesagt?"
   ]
  },
  {
   "cell_type": "code",
   "execution_count": null,
   "metadata": {
    "collapsed": false
   },
   "outputs": [],
   "source": []
  },
  {
   "cell_type": "markdown",
   "metadata": {},
   "source": [
    "**Frage**: \n",
    "\n",
    "Wie gut passen eigentlich die Diagonalwerte der Fourier-transformierten Iterationsmatrix mit den Eigenwerten der Matrix für Gauss-Seidel zusammen? Was könnte man machen um Sie zu vergleichen."
   ]
  },
  {
   "cell_type": "code",
   "execution_count": null,
   "metadata": {
    "collapsed": true
   },
   "outputs": [],
   "source": [
    "It_gs = iteration_matrix_gs(16,0)\n",
    "eigvals = sp.linalg.eigvals(It_gs)\n",
    "diagonals = get_theta_eigvals(It_gs)"
   ]
  },
  {
   "cell_type": "markdown",
   "metadata": {},
   "source": [
    "Eine einfache Methode wäre:"
   ]
  },
  {
   "cell_type": "code",
   "execution_count": null,
   "metadata": {
    "collapsed": false
   },
   "outputs": [],
   "source": [
    "sum_eig = np.sum(np.abs(eigvals))\n",
    "sum_diag = np.sum(np.abs(diagonals))\n",
    "print sum_eig\n",
    "print sum_diag"
   ]
  },
  {
   "cell_type": "markdown",
   "metadata": {},
   "source": [
    "**Aufgabe**\n",
    "Überlegt euch eigene Vergleichsmethoden und variiert $n$,$\\sigma$ und die Periodizität, um herauszufinden, wann die \n",
    "`get_theta_eigvals` Methode die Eigenwerte gut schätzen kann."
   ]
  },
  {
   "cell_type": "code",
   "execution_count": null,
   "metadata": {
    "collapsed": true
   },
   "outputs": [],
   "source": []
  },
  {
   "cell_type": "code",
   "execution_count": null,
   "metadata": {
    "collapsed": false
   },
   "outputs": [],
   "source": []
  },
  {
   "cell_type": "code",
   "execution_count": null,
   "metadata": {
    "collapsed": false
   },
   "outputs": [],
   "source": []
  },
  {
   "cell_type": "markdown",
   "metadata": {},
   "source": [
    "### Zweigitter-Iterationsmatrix"
   ]
  },
  {
   "cell_type": "code",
   "execution_count": null,
   "metadata": {
    "collapsed": false
   },
   "outputs": [],
   "source": [
    "from project.linear_transfer import LinearTransfer\n",
    "from project.linear_transfer_periodic import LinearTransferPeriodic"
   ]
  },
  {
   "cell_type": "markdown",
   "metadata": {},
   "source": [
    "Im Folgenden werden wir nun mithilfe des `pymg` frameworks die Zweigitter-Iterationsmatrix für ein einfaches Multigrid \n",
    "aufstellen. Wir beginnen mit der Grobgitterkorrektur."
   ]
  },
  {
   "cell_type": "code",
   "execution_count": null,
   "metadata": {
    "collapsed": true
   },
   "outputs": [],
   "source": [
    "def coarse_grid_correction(n,nc, sigma):\n",
    "    A_fine = to_dense(system_matrix_hh1d(n,sigma))\n",
    "    A_coarse = to_dense(system_matrix_hh1d(nc,sigma))\n",
    "    A_coarse_inv = sp.linalg.inv(A_coarse)\n",
    "    lin_trans = LinearTransfer(n, nc)\n",
    "    prolong = to_dense(lin_trans.I_2htoh)\n",
    "    restrict = to_dense(lin_trans.I_hto2h)\n",
    "    return np.eye(n)- np.dot(prolong.dot(A_coarse_inv.dot(restrict)), A_fine)"
   ]
  },
  {
   "cell_type": "markdown",
   "metadata": {},
   "source": [
    "**Buntebilderaufgabe:** Nutze `plot_fourier_transformed` um für $n=31$, $n_c=15$ und verschiedene $\\sigma\\in[-1000,1000]$ um die Grobgitterkorrekturiterationsmatrizen und deren Fourier-transformierten zu plotten."
   ]
  },
  {
   "cell_type": "code",
   "execution_count": null,
   "metadata": {
    "collapsed": false
   },
   "outputs": [],
   "source": [
    "plot_fourier_transformed(coarse_grid_correction(31,15,0))"
   ]
  },
  {
   "cell_type": "markdown",
   "metadata": {},
   "source": [
    "Und nun einmal der periodische Fall."
   ]
  },
  {
   "cell_type": "code",
   "execution_count": null,
   "metadata": {
    "collapsed": true
   },
   "outputs": [],
   "source": [
    "def coarse_grid_correction_periodic(n,nc, sigma):\n",
    "    A_fine = to_dense(system_matrix_hh1d_periodic(n,sigma))\n",
    "    A_coarse = to_dense(system_matrix_hh1d_periodic(nc,sigma))\n",
    "    A_coarse_inv = sp.linalg.inv(A_coarse)\n",
    "    lin_trans = LinearTransferPeriodic(n, nc)\n",
    "    prolong = to_dense(lin_trans.I_2htoh)\n",
    "    restrict = to_dense(lin_trans.I_hto2h)\n",
    "    return np.eye(n)- np.dot(prolong.dot(A_coarse_inv.dot(restrict)), A_fine)"
   ]
  },
  {
   "cell_type": "markdown",
   "metadata": {},
   "source": [
    "**Aufgabe:** \n",
    "\n",
    "Nutzen Sie `coarse_grid_correction_periodic` für die Grobgitterkorrektur für das periodische Problem und plotten Sie nochmal für verschiedene $\\sigma$ die Matrizen und ihre Fourier-transformierten.Für welche $n_f$ und $n_c$ ist die Grobgitterkorrektur für ein periodisches Problem sinnvoll?\n"
   ]
  },
  {
   "cell_type": "code",
   "execution_count": null,
   "metadata": {
    "collapsed": false
   },
   "outputs": [],
   "source": []
  },
  {
   "cell_type": "markdown",
   "metadata": {},
   "source": [
    "**Frage:** \n",
    "\n",
    "Was genau passiert bei $\\sigma = 0$ und in der Nähe davon?  Was fällt sonst auf? Und was hat das Ganze mit der Vorlesung zu tun?"
   ]
  },
  {
   "cell_type": "markdown",
   "metadata": {},
   "source": [
    "Nun verwenden wir die Grobgitterkorrektur und die Iterationsmatrizen der Glätter um die Zweigitteriterationsmatrix zu berrechnen."
   ]
  },
  {
   "cell_type": "code",
   "execution_count": null,
   "metadata": {
    "collapsed": true
   },
   "outputs": [],
   "source": [
    "def two_grid_it_matrix(n,nc, sigma, nu1=3,nu2=3,typ='wjac'):\n",
    "    cg = coarse_grid_correction(n,nc,sigma)\n",
    "    if typ is 'wjac':\n",
    "        smoother = iteration_matrix_wjac(n,sigma, periodic=False)\n",
    "    if typ is 'gs':\n",
    "        smoother = iteration_matrix_gs(n,sigma, periodic=False)\n",
    "    \n",
    "    pre_sm = matrix_power(smoother, nu1)\n",
    "    post_sm = matrix_power(smoother, nu2)\n",
    "    \n",
    "    return pre_sm.dot(cg.dot(post_sm))    "
   ]
  },
  {
   "cell_type": "markdown",
   "metadata": {},
   "source": [
    "**Buntebilderaufgabe:**\n",
    "\n",
    "Nutzen Sie `plot_fourier_transformed` um für $n=15$, $n_c=7$ und verschiedene $\\sigma\\in[-1000,1000]$ um die Zweigittermatrizen und deren Fourier-transformierten zu plotten."
   ]
  },
  {
   "cell_type": "code",
   "execution_count": null,
   "metadata": {
    "collapsed": false
   },
   "outputs": [],
   "source": [
    "plot_fourier_transformed(two_grid_it_matrix(15,7,0,typ='wjac'))"
   ]
  },
  {
   "cell_type": "markdown",
   "metadata": {
    "collapsed": false
   },
   "source": [
    "Nun etwas genauer!"
   ]
  },
  {
   "cell_type": "code",
   "execution_count": null,
   "metadata": {
    "collapsed": false
   },
   "outputs": [],
   "source": [
    "sr_2grid_var_sigma = map(lambda sig : spec_rad(two_grid_it_matrix(15,7,sig)), sigma_range)"
   ]
  },
  {
   "cell_type": "code",
   "execution_count": null,
   "metadata": {
    "collapsed": false
   },
   "outputs": [],
   "source": [
    "plt.semilogy(sigma_range, sr_2grid_var_sigma,'k-')\n",
    "plt.title('$n_f = 15, n_c = 7$')\n",
    "plt.xlabel('$\\sigma$')\n",
    "plt.ylabel(\"spectral radius\")"
   ]
  },
  {
   "cell_type": "code",
   "execution_count": null,
   "metadata": {
    "collapsed": false
   },
   "outputs": [],
   "source": [
    "nf_range = map(lambda k: 2**k-1,range(3,10))\n",
    "nc_range = map(lambda k: 2**k-1,range(2,9))\n",
    "sr_2grid_m1000 = map(lambda nf,nc : spec_rad(two_grid_it_matrix(nf,nc,-1000)), nf_range, nc_range)\n",
    "sr_2grid_0 = map(lambda nf,nc : spec_rad(two_grid_it_matrix(nf,nc,0)), nf_range, nc_range)\n",
    "sr_2grid_p1000 = map(lambda nf,nc : spec_rad(two_grid_it_matrix(nf,nc,1000)), nf_range, nc_range)"
   ]
  },
  {
   "cell_type": "code",
   "execution_count": null,
   "metadata": {
    "collapsed": false
   },
   "outputs": [],
   "source": [
    "plt.semilogy(nf_range, sr_2grid_m1000,'k-',nf_range, sr_2grid_0,'k--',nf_range, sr_2grid_p1000,'k:')\n",
    "plt.xlabel('$n_f$')\n",
    "plt.ylabel(\"spectral radius\")\n",
    "plt.legend((\"$\\sigma = -1000$\",\"$\\sigma = 0$\",\"$\\sigma = 1000$\"),'upper right',shadow = True)"
   ]
  },
  {
   "cell_type": "markdown",
   "metadata": {},
   "source": [
    "** Frage **\n",
    "\n",
    "Was sieht man in den beiden vorhergehenden Plots?"
   ]
  },
  {
   "cell_type": "markdown",
   "metadata": {},
   "source": [
    "Als nächstes behandeln wir den periodischen Fall."
   ]
  },
  {
   "cell_type": "code",
   "execution_count": null,
   "metadata": {
    "collapsed": true
   },
   "outputs": [],
   "source": [
    "def two_grid_it_matrix_periodic(n,nc, sigma, nu1=3,nu2=3,typ='wjac'):\n",
    "    cg = coarse_grid_correction_periodic(n,nc,sigma)\n",
    "    if typ is 'wjac':\n",
    "        smoother = iteration_matrix_wjac(n,sigma, periodic=True)\n",
    "    if typ is 'gs':\n",
    "        smoother = iteration_matrix_gs(n,sigma, periodic=True)\n",
    "    \n",
    "    pre_sm = matrix_power(smoother, nu1)\n",
    "    post_sm = matrix_power(smoother, nu2)\n",
    "\n",
    "    return pre_sm.dot(cg.dot(post_sm))    "
   ]
  },
  {
   "cell_type": "markdown",
   "metadata": {},
   "source": [
    "**Buntebilderaufgabe:**\n",
    "\n",
    "Nutzen Sie `plot_fourier_transformed` um für $n=16$, $n_c=8$ und verschiedene $\\sigma\\in[-1000,1000]$ um die Zweigittermatrizen und deren Fourier-transformierten zu plotten."
   ]
  },
  {
   "cell_type": "code",
   "execution_count": null,
   "metadata": {
    "collapsed": false
   },
   "outputs": [],
   "source": [
    "plot_fourier_transformed(two_grid_it_matrix_periodic(16,8,-100,typ='wjac'))"
   ]
  },
  {
   "cell_type": "markdown",
   "metadata": {},
   "source": [
    "**Frage**\n",
    "\n",
    "Was fällt auf? (Das sind die besten Fragen... zumindest für den Übungsleiter.)"
   ]
  },
  {
   "cell_type": "markdown",
   "metadata": {},
   "source": [
    "**Aufgabe:** \n",
    "\n",
    "Nutzen Sie die Funktion `two_grid_it_matrix_periodic` für den periodischen Fall und plotten Sie den Spektralradius über $\\sigma$ und den Spektralradius über $n$ für 3 verschiedene $\\sigma$."
   ]
  },
  {
   "cell_type": "code",
   "execution_count": null,
   "metadata": {
    "collapsed": true
   },
   "outputs": [],
   "source": []
  },
  {
   "cell_type": "markdown",
   "metadata": {},
   "source": [
    "**Aufgabe:** Plotten sie die Differenzen zwischen dem periodischem und nicht-periodischem Fall."
   ]
  },
  {
   "cell_type": "code",
   "execution_count": null,
   "metadata": {
    "collapsed": false
   },
   "outputs": [],
   "source": []
  },
  {
   "cell_type": "markdown",
   "metadata": {},
   "source": [
    "**Bonusbuntebilderaufgabe**\n",
    "\n",
    "Vergleicht analog zu den Eigenwertplots der Systemmatrizen, die Eigenwertplots der Zweigitteriterationsmatrizen."
   ]
  },
  {
   "cell_type": "code",
   "execution_count": null,
   "metadata": {
    "collapsed": false
   },
   "outputs": [],
   "source": []
  },
  {
   "cell_type": "markdown",
   "metadata": {},
   "source": [
    "### Asymptotische Äquivalenz  zwischen periodisch und nicht-periodisch"
   ]
  },
  {
   "cell_type": "markdown",
   "metadata": {},
   "source": [
    "Wir sehen, dass die Spektralradiien auf den ersten Blick gut übereinstimmen. Wir wollen nun empirisch ergründen ob die Matrizenklassen der periodischen und nicht periodischen Fällen möglicherweise zueinander asymptotisch äquivalent sind.\n",
    "Zur Erinnerung:"
   ]
  },
  {
   "cell_type": "markdown",
   "metadata": {},
   "source": [
    "#### Hilbert-Schmidt Norm\n",
    "\n",
    "Wir definieren die Hilbert-Schmidt Norm einer Matrx $A \\in K^{n \\times n}$ als\n",
    "$$ |A| = \\left( \\frac{1}{n}\\sum_{i = 0}^{n-1}\\sum_{i = 0}^{n-1} |a_{i,j}|^2 \\right)^{1/2}.$$\n",
    "Es gilt\n",
    "1. $|A| = \\left( \\frac{1}{n}\\mbox{Spur}(A^*A) \\right)^{1/2}$\n",
    "1. $|A| = \\left( \\frac{1}{n}\\sum_{k=0}^{n-1}\\lambda_k\\right)^{1/2}$, wobei $\\lambda_k$ die Eigenwerte von $A^*A$ sind\n",
    "1. $|A| \\leq \\|A\\|$\n",
    "\n",
    "\n",
    "#### Asymptotisch äquivalente Folgen von Matrizen\n",
    "\n",
    "Seien $\\{A_n\\}$ und $\\{B_n\\}$ Folgen von $n\\times n$ Matrizen, welche \n",
    "beschränkt bzgl. der starken Norm sind:\n",
    "$$ \\|A_n\\|,\\|B_n\\| \\leq M \\le \\infty, n=1,2,\\ldots $$ \n",
    "und bzgl. der schwachen Norm konvergieren\n",
    "$$\\lim_{n \\to \\infty} |A_n -B_n| = 0.$$\n",
    "Wir nennen diese Folgen *asymptotisch äquivalent* und notieren dies als $A_n \\sim B_n$. \n",
    "\n",
    "Für $\\{A_n\\}$ , $\\{B_n\\}$ und $\\{C_n\\}$, \n",
    "welche jeweils die Eigenwerte $\\{\\alpha_{n,i}\\}$,$\\{\\beta_{n,i}\\}$ und $\\{\\zeta_{n,i}\\}$ haben gelten\n",
    "folgende Zusammenhänge.\n",
    "\n",
    "1. Wenn $A_n \\sim B_n$, dann $\\lim_{n \\to \\infty} |A_n| = \\lim_{n \\to \\infty} |B_n| $\n",
    "1. Wenn $A_n \\sim B_n$ und $B_n \\sim C_n$, dann  $A_n \\sim C_n$\n",
    "1. Wenn $A_nB_n \\sim C_n$ und $\\|A_n^{-1}\\|\\leq K \\le \\infty$, dann gilt $B_n \\sim A_n^{-1}C_n$\n",
    "1. Wenn $A_n \\sim B_n$, dann $\\exists -\\infty \\le m,M\\le \\infty$, s.d. $m\\leq \\alpha_{n,i}, \\beta_{n,i}\\leq M \\; \\forall n\\geq 1 \\mbox{und}\\; k\\geq 0$  \n",
    "1. Wenn $A_n \\sim B_n$, dann gilt $ \\lim_{n \\to \\infty} \\frac{1}{n} \\sum_{k=0}^{n-1} (\\alpha_{n,k}^s - \\beta_{n,k}^s) = 0$"
   ]
  },
  {
   "cell_type": "markdown",
   "metadata": {},
   "source": [
    "**Aufgabe:** \n",
    "\n",
    "Schreiben sie eine Funktion `hs_norm`, welche die Hilbert-Schmidt Norm berechnet in __maximal 3 Zeilen__. \n",
    "\n",
    "Tipp: _'numpy norm frobenius' -> Suchmaschine_"
   ]
  },
  {
   "cell_type": "code",
   "execution_count": null,
   "metadata": {
    "collapsed": true
   },
   "outputs": [],
   "source": []
  },
  {
   "cell_type": "markdown",
   "metadata": {},
   "source": [
    "**Aufgabe:** \n",
    "Überprüfen Sie empirisch ob die\n",
    "\n",
    "1.  _Systemmatrizenklassen_ \n",
    "1.  _Glättungsiterationsmatrizenklassen_ \n",
    "1.  _Grobgitterkorrekturmatrizenklassen_ \n",
    "1.  _Zweigitteriterationsmatrizenklassen_ \n",
    "\n",
    "asymptotisch äquivalent sind für $\\sigma = \\{ -1000, 0.001, 1000 \\}$."
   ]
  },
  {
   "cell_type": "markdown",
   "metadata": {},
   "source": [
    "__Systemmatrizen:__"
   ]
  },
  {
   "cell_type": "code",
   "execution_count": null,
   "metadata": {
    "collapsed": false
   },
   "outputs": [],
   "source": [
    "n_range = np.arange(10,100)\n",
    "hs_sysmat_m1000 = map(lambda n: hs_norm(to_dense(system_matrix_hh1d(n,-1000))-to_dense(system_matrix_hh1d_periodic(n,-1000))),n_range)\n",
    "hs_sysmat_0 = map(lambda n: hs_norm(to_dense(system_matrix_hh1d(n,0.001))-to_dense(system_matrix_hh1d_periodic(n,0.001))),n_range)\n",
    "hs_sysmat_p1000 = map(lambda n: hs_norm(to_dense(system_matrix_hh1d(n,1000))-to_dense(system_matrix_hh1d_periodic(n,1000))),n_range)\n"
   ]
  },
  {
   "cell_type": "code",
   "execution_count": null,
   "metadata": {
    "collapsed": false
   },
   "outputs": [],
   "source": [
    "plt.plot(hs_sysmat_m1000)\n",
    "plt.plot(hs_sysmat_0)\n",
    "plt.plot(hs_sysmat_p1000)"
   ]
  },
  {
   "cell_type": "markdown",
   "metadata": {},
   "source": [
    "__Glättung:__"
   ]
  },
  {
   "cell_type": "markdown",
   "metadata": {},
   "source": [
    "_Jacobi_"
   ]
  },
  {
   "cell_type": "code",
   "execution_count": null,
   "metadata": {
    "collapsed": false
   },
   "outputs": [],
   "source": [
    "n_range = 2**np.arange(1,11)\n",
    "hs_wjac_m1000 = map(lambda n: hs_norm(to_dense(iteration_matrix_wjac(n,-1000))-to_dense(iteration_matrix_wjac(n,-1000,False))),n_range)\n",
    "hs_wjac_0 = map(lambda n: hs_norm(to_dense(iteration_matrix_wjac(n,0))-to_dense(iteration_matrix_wjac(n,0,False))),n_range)\n",
    "hs_wjac_p1000 = map(lambda n: hs_norm(to_dense(iteration_matrix_wjac(n,1000))-to_dense(iteration_matrix_wjac(n,1000,False))),n_range)"
   ]
  },
  {
   "cell_type": "code",
   "execution_count": null,
   "metadata": {
    "collapsed": false
   },
   "outputs": [],
   "source": [
    "plt.plot(n_range, hs_wjac_m1000)\n",
    "plt.plot(n_range, hs_wjac_0)\n",
    "plt.plot(n_range, hs_wjac_p1000)"
   ]
  },
  {
   "cell_type": "markdown",
   "metadata": {},
   "source": [
    "_Gauss-Seidel_"
   ]
  },
  {
   "cell_type": "code",
   "execution_count": null,
   "metadata": {
    "collapsed": true
   },
   "outputs": [],
   "source": [
    "n_range = 2**np.arange(1,11)\n",
    "hs_gs_m1000 = map(lambda n: hs_norm(to_dense(iteration_matrix_gs(n,-1000))-to_dense(iteration_matrix_gs(n,-1000,False))),n_range)\n",
    "hs_gs_0 = map(lambda n: hs_norm(to_dense(iteration_matrix_gs(n,0))-to_dense(iteration_matrix_gs(n,0,False))),n_range)\n",
    "hs_gs_p1000 = map(lambda n: hs_norm(to_dense(iteration_matrix_gs(n,1000))-to_dense(iteration_matrix_gs(n,1000,False))),n_range)"
   ]
  },
  {
   "cell_type": "code",
   "execution_count": null,
   "metadata": {
    "collapsed": false
   },
   "outputs": [],
   "source": [
    "plt.plot(n_range, hs_gs_m1000)\n",
    "plt.plot(n_range, hs_gs_0)\n",
    "plt.plot(n_range, hs_gs_p1000)"
   ]
  },
  {
   "cell_type": "markdown",
   "metadata": {},
   "source": [
    "__Grobgitterkorrektur__"
   ]
  },
  {
   "cell_type": "markdown",
   "metadata": {},
   "source": [
    "Hier trifft man mal wieder auf das Problem, dass die Freiheitsgrade im periodischen und nicht periodischen Fall unterschiedlich verteilt sind. "
   ]
  },
  {
   "cell_type": "code",
   "execution_count": null,
   "metadata": {
    "collapsed": false
   },
   "outputs": [],
   "source": [
    "def einmal_einpacken(A):\n",
    "    return np.r_[[np.zeros(A.shape[0]+1)],np.c_[np.zeros(A.shape[0]),A]]"
   ]
  },
  {
   "cell_type": "markdown",
   "metadata": {},
   "source": [
    "**Frage**\n",
    "\n",
    "Welcher _Trick_ wird hier verwendet um mit den unterschiedlichen Dimensionen der Matrizen umzugehen?"
   ]
  },
  {
   "cell_type": "code",
   "execution_count": null,
   "metadata": {
    "collapsed": false
   },
   "outputs": [],
   "source": [
    "n_f_range = 2**np.arange(3,10)\n",
    "n_c_range = 2**np.arange(2,9)\n",
    "hs_cgc_m1000 =  map(lambda nf,nc: hs_norm(einmal_einpacken(coarse_grid_correction(nf-1,nc-1,-1000))-coarse_grid_correction_periodic(nf,nc,-1000)),n_f_range ,n_c_range)\n",
    "hs_cgc_0 =  map(lambda nf,nc: hs_norm(einmal_einpacken(coarse_grid_correction(nf-1,nc-1,0))-coarse_grid_correction_periodic(nf,nc,0.001)),n_f_range ,n_c_range)\n",
    "hs_cgc_p1000 =  map(lambda nf,nc: hs_norm(einmal_einpacken(coarse_grid_correction(nf-1,nc-1,1000))-coarse_grid_correction_periodic(nf,nc,1000)),n_f_range ,n_c_range)"
   ]
  },
  {
   "cell_type": "code",
   "execution_count": null,
   "metadata": {
    "collapsed": false
   },
   "outputs": [],
   "source": [
    "plt.semilogy(n_f_range, hs_cgc_m1000)\n",
    "plt.semilogy(n_f_range, hs_cgc_0)\n",
    "plt.semilogy(n_f_range, hs_cgc_p1000)\n",
    "# plt.semilogy(n_f_range, 1/np.sqrt(n_f_range))"
   ]
  },
  {
   "cell_type": "markdown",
   "metadata": {},
   "source": [
    "__Zweigitter__"
   ]
  },
  {
   "cell_type": "code",
   "execution_count": null,
   "metadata": {
    "collapsed": true
   },
   "outputs": [],
   "source": [
    "n_f_range = 2**np.arange(3,12)\n",
    "n_c_range = 2**np.arange(2,11)\n",
    "hs_2grid_m1000 =  map(lambda nf,nc: hs_norm(\n",
    "        einmal_einpacken(two_grid_it_matrix(nf-1,nc-1,-1000))-two_grid_it_matrix_periodic(nf,nc,-1000))\n",
    "                    ,n_f_range ,n_c_range)\n",
    "hs_2grid_0 =  map(lambda nf,nc: hs_norm(\n",
    "        einmal_einpacken(two_grid_it_matrix(nf-1,nc-1,0.001))-two_grid_it_matrix_periodic(nf,nc,0.001))\n",
    "                ,n_f_range ,n_c_range)\n",
    "hs_2grid_p1000 =  map(lambda nf,nc: hs_norm(\n",
    "        einmal_einpacken(two_grid_it_matrix(nf-1,nc-1,1000))-two_grid_it_matrix_periodic(nf,nc,1000))\n",
    "                    ,n_f_range ,n_c_range)"
   ]
  },
  {
   "cell_type": "code",
   "execution_count": null,
   "metadata": {
    "collapsed": false
   },
   "outputs": [],
   "source": [
    "plt.semilogy(n_f_range, hs_2grid_m1000)\n",
    "plt.semilogy(n_f_range, hs_2grid_0)\n",
    "plt.semilogy(n_f_range, hs_2grid_p1000)\n",
    "plt.semilogy(n_f_range, 1/np.sqrt(n_f_range)*30)"
   ]
  },
  {
   "cell_type": "markdown",
   "metadata": {},
   "source": [
    "__Sie haben das Ende des Übungblattes erreicht!__"
   ]
  }
 ],
 "metadata": {
  "kernelspec": {
   "display_name": "Python 2",
   "language": "python",
   "name": "python2"
  },
  "language_info": {
   "codemirror_mode": {
    "name": "ipython",
    "version": 2
   },
   "file_extension": ".py",
   "mimetype": "text/x-python",
   "name": "python",
   "nbconvert_exporter": "python",
   "pygments_lexer": "ipython2",
   "version": "2.7.11"
  }
 },
 "nbformat": 4,
 "nbformat_minor": 0
}
